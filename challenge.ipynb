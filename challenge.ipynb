{
  "cells": [
    {
      "cell_type": "markdown",
      "metadata": {
        "id": "view-in-github",
        "colab_type": "text"
      },
      "source": [
        "<a href=\"https://colab.research.google.com/github/cvillela/amplemarket_challenge/blob/main/challenge.ipynb\" target=\"_parent\"><img src=\"https://colab.research.google.com/assets/colab-badge.svg\" alt=\"Open In Colab\"/></a>"
      ]
    },
    {
      "cell_type": "markdown",
      "metadata": {
        "id": "zF5BPWYFY30L"
      },
      "source": [
        "## Amplemarket Machine Learning Engineer Challenge\n",
        "\n",
        "Caio Simão Villela - csvillela1@gmail.com\n",
        "\n",
        "---"
      ]
    },
    {
      "cell_type": "markdown",
      "metadata": {
        "id": "hyRFutSNY30b"
      },
      "source": [
        "# B2B and B2C Classification Model for Companies"
      ]
    },
    {
      "cell_type": "markdown",
      "metadata": {
        "id": "V3xS1UkSY30b"
      },
      "source": [
        "This project aims to create a classification model that can differentiate between B2B (business-to-business) and B2C (business-to-consumer) companies based on their company profile data.\n",
        "\n",
        "The model is developed using XGBoost, an efficient implementation of gradient boosting algorithms that has gained popularity due to its high accuracy and fast computation. To improve the model's performance, Optuna, an automatic hyperparameter optimization framework, is used to find the optimal set of hyperparameters for the model.\n",
        "\n",
        "The trained model is then exposed through a Flask API that can be locally hosted. Users can input the company profile data, and the model will classify the company as B2B, B2C, both or neither."
      ]
    },
    {
      "cell_type": "markdown",
      "source": [
        "# Installs\n",
        "---"
      ],
      "metadata": {
        "id": "sE8wDrkbZG7Y"
      }
    },
    {
      "cell_type": "code",
      "source": [
        "!pip install optuna"
      ],
      "metadata": {
        "colab": {
          "base_uri": "https://localhost:8080/"
        },
        "id": "KGIZsjKkZIeu",
        "outputId": "cf7d9547-9605-4581-81d1-8c7e9bbffe7b"
      },
      "execution_count": null,
      "outputs": [
        {
          "output_type": "stream",
          "name": "stdout",
          "text": [
            "Looking in indexes: https://pypi.org/simple, https://us-python.pkg.dev/colab-wheels/public/simple/\n",
            "Collecting optuna\n",
            "  Downloading optuna-3.1.0-py3-none-any.whl (365 kB)\n",
            "\u001b[2K     \u001b[90m━━━━━━━━━━━━━━━━━━━━━━━━━━━━━━━━━━━━━━━\u001b[0m \u001b[32m365.3/365.3 KB\u001b[0m \u001b[31m7.6 MB/s\u001b[0m eta \u001b[36m0:00:00\u001b[0m\n",
            "\u001b[?25hRequirement already satisfied: numpy in /usr/local/lib/python3.9/dist-packages (from optuna) (1.22.4)\n",
            "Requirement already satisfied: PyYAML in /usr/local/lib/python3.9/dist-packages (from optuna) (6.0)\n",
            "Requirement already satisfied: tqdm in /usr/local/lib/python3.9/dist-packages (from optuna) (4.65.0)\n",
            "Collecting colorlog\n",
            "  Downloading colorlog-6.7.0-py2.py3-none-any.whl (11 kB)\n",
            "Collecting alembic>=1.5.0\n",
            "  Downloading alembic-1.10.2-py3-none-any.whl (212 kB)\n",
            "\u001b[2K     \u001b[90m━━━━━━━━━━━━━━━━━━━━━━━━━━━━━━━━━━━━━━\u001b[0m \u001b[32m212.2/212.2 KB\u001b[0m \u001b[31m22.9 MB/s\u001b[0m eta \u001b[36m0:00:00\u001b[0m\n",
            "\u001b[?25hRequirement already satisfied: packaging>=20.0 in /usr/local/lib/python3.9/dist-packages (from optuna) (23.0)\n",
            "Requirement already satisfied: sqlalchemy>=1.3.0 in /usr/local/lib/python3.9/dist-packages (from optuna) (1.4.47)\n",
            "Collecting cmaes>=0.9.1\n",
            "  Downloading cmaes-0.9.1-py3-none-any.whl (21 kB)\n",
            "Collecting Mako\n",
            "  Downloading Mako-1.2.4-py3-none-any.whl (78 kB)\n",
            "\u001b[2K     \u001b[90m━━━━━━━━━━━━━━━━━━━━━━━━━━━━━━━━━━━━━━━━\u001b[0m \u001b[32m78.7/78.7 KB\u001b[0m \u001b[31m9.4 MB/s\u001b[0m eta \u001b[36m0:00:00\u001b[0m\n",
            "\u001b[?25hRequirement already satisfied: typing-extensions>=4 in /usr/local/lib/python3.9/dist-packages (from alembic>=1.5.0->optuna) (4.5.0)\n",
            "Requirement already satisfied: greenlet!=0.4.17 in /usr/local/lib/python3.9/dist-packages (from sqlalchemy>=1.3.0->optuna) (2.0.2)\n",
            "Requirement already satisfied: MarkupSafe>=0.9.2 in /usr/local/lib/python3.9/dist-packages (from Mako->alembic>=1.5.0->optuna) (2.1.2)\n",
            "Installing collected packages: Mako, colorlog, cmaes, alembic, optuna\n",
            "Successfully installed Mako-1.2.4 alembic-1.10.2 cmaes-0.9.1 colorlog-6.7.0 optuna-3.1.0\n"
          ]
        }
      ]
    },
    {
      "cell_type": "markdown",
      "metadata": {
        "id": "y3VtVNF8Y30c"
      },
      "source": [
        "## Imports\n",
        "---"
      ]
    },
    {
      "cell_type": "code",
      "execution_count": null,
      "metadata": {
        "id": "aj__3GlKY30d"
      },
      "outputs": [],
      "source": [
        "import pandas as pd\n",
        "import seaborn as sns\n",
        "import matplotlib.pyplot as plt\n",
        "import matplotlib.ticker as mtick\n",
        "\n",
        "import numpy as np\n",
        "import xgboost as xgb\n",
        "from sklearn.model_selection import train_test_split\n",
        "from sklearn.preprocessing import LabelEncoder\n",
        "from sklearn.metrics import accuracy_score, classification_report\n",
        "import optuna"
      ]
    },
    {
      "cell_type": "markdown",
      "metadata": {
        "id": "uQOOuns9Y30e"
      },
      "source": [
        "# Exploratory Data Analysis\n",
        "---"
      ]
    },
    {
      "cell_type": "code",
      "execution_count": null,
      "metadata": {
        "colab": {
          "base_uri": "https://localhost:8080/",
          "height": 313
        },
        "id": "XhoBKWT7Y30f",
        "outputId": "a470e684-2c7e-46fd-f13d-55523b9de2f4"
      },
      "outputs": [
        {
          "output_type": "error",
          "ename": "FileNotFoundError",
          "evalue": "ignored",
          "traceback": [
            "\u001b[0;31m---------------------------------------------------------------------------\u001b[0m",
            "\u001b[0;31mFileNotFoundError\u001b[0m                         Traceback (most recent call last)",
            "\u001b[0;32m<ipython-input-4-002e22b67a50>\u001b[0m in \u001b[0;36m<cell line: 1>\u001b[0;34m()\u001b[0m\n\u001b[0;32m----> 1\u001b[0;31m \u001b[0mdf\u001b[0m \u001b[0;34m=\u001b[0m \u001b[0mpd\u001b[0m\u001b[0;34m.\u001b[0m\u001b[0mread_csv\u001b[0m\u001b[0;34m(\u001b[0m\u001b[0;34m'./data.csv'\u001b[0m\u001b[0;34m)\u001b[0m\u001b[0;34m\u001b[0m\u001b[0;34m\u001b[0m\u001b[0m\n\u001b[0m",
            "\u001b[0;32m/usr/local/lib/python3.9/dist-packages/pandas/util/_decorators.py\u001b[0m in \u001b[0;36mwrapper\u001b[0;34m(*args, **kwargs)\u001b[0m\n\u001b[1;32m    309\u001b[0m                     \u001b[0mstacklevel\u001b[0m\u001b[0;34m=\u001b[0m\u001b[0mstacklevel\u001b[0m\u001b[0;34m,\u001b[0m\u001b[0;34m\u001b[0m\u001b[0;34m\u001b[0m\u001b[0m\n\u001b[1;32m    310\u001b[0m                 )\n\u001b[0;32m--> 311\u001b[0;31m             \u001b[0;32mreturn\u001b[0m \u001b[0mfunc\u001b[0m\u001b[0;34m(\u001b[0m\u001b[0;34m*\u001b[0m\u001b[0margs\u001b[0m\u001b[0;34m,\u001b[0m \u001b[0;34m**\u001b[0m\u001b[0mkwargs\u001b[0m\u001b[0;34m)\u001b[0m\u001b[0;34m\u001b[0m\u001b[0;34m\u001b[0m\u001b[0m\n\u001b[0m\u001b[1;32m    312\u001b[0m \u001b[0;34m\u001b[0m\u001b[0m\n\u001b[1;32m    313\u001b[0m         \u001b[0;32mreturn\u001b[0m \u001b[0mwrapper\u001b[0m\u001b[0;34m\u001b[0m\u001b[0;34m\u001b[0m\u001b[0m\n",
            "\u001b[0;32m/usr/local/lib/python3.9/dist-packages/pandas/io/parsers/readers.py\u001b[0m in \u001b[0;36mread_csv\u001b[0;34m(filepath_or_buffer, sep, delimiter, header, names, index_col, usecols, squeeze, prefix, mangle_dupe_cols, dtype, engine, converters, true_values, false_values, skipinitialspace, skiprows, skipfooter, nrows, na_values, keep_default_na, na_filter, verbose, skip_blank_lines, parse_dates, infer_datetime_format, keep_date_col, date_parser, dayfirst, cache_dates, iterator, chunksize, compression, thousands, decimal, lineterminator, quotechar, quoting, doublequote, escapechar, comment, encoding, encoding_errors, dialect, error_bad_lines, warn_bad_lines, on_bad_lines, delim_whitespace, low_memory, memory_map, float_precision, storage_options)\u001b[0m\n\u001b[1;32m    676\u001b[0m     \u001b[0mkwds\u001b[0m\u001b[0;34m.\u001b[0m\u001b[0mupdate\u001b[0m\u001b[0;34m(\u001b[0m\u001b[0mkwds_defaults\u001b[0m\u001b[0;34m)\u001b[0m\u001b[0;34m\u001b[0m\u001b[0;34m\u001b[0m\u001b[0m\n\u001b[1;32m    677\u001b[0m \u001b[0;34m\u001b[0m\u001b[0m\n\u001b[0;32m--> 678\u001b[0;31m     \u001b[0;32mreturn\u001b[0m \u001b[0m_read\u001b[0m\u001b[0;34m(\u001b[0m\u001b[0mfilepath_or_buffer\u001b[0m\u001b[0;34m,\u001b[0m \u001b[0mkwds\u001b[0m\u001b[0;34m)\u001b[0m\u001b[0;34m\u001b[0m\u001b[0;34m\u001b[0m\u001b[0m\n\u001b[0m\u001b[1;32m    679\u001b[0m \u001b[0;34m\u001b[0m\u001b[0m\n\u001b[1;32m    680\u001b[0m \u001b[0;34m\u001b[0m\u001b[0m\n",
            "\u001b[0;32m/usr/local/lib/python3.9/dist-packages/pandas/io/parsers/readers.py\u001b[0m in \u001b[0;36m_read\u001b[0;34m(filepath_or_buffer, kwds)\u001b[0m\n\u001b[1;32m    573\u001b[0m \u001b[0;34m\u001b[0m\u001b[0m\n\u001b[1;32m    574\u001b[0m     \u001b[0;31m# Create the parser.\u001b[0m\u001b[0;34m\u001b[0m\u001b[0;34m\u001b[0m\u001b[0m\n\u001b[0;32m--> 575\u001b[0;31m     \u001b[0mparser\u001b[0m \u001b[0;34m=\u001b[0m \u001b[0mTextFileReader\u001b[0m\u001b[0;34m(\u001b[0m\u001b[0mfilepath_or_buffer\u001b[0m\u001b[0;34m,\u001b[0m \u001b[0;34m**\u001b[0m\u001b[0mkwds\u001b[0m\u001b[0;34m)\u001b[0m\u001b[0;34m\u001b[0m\u001b[0;34m\u001b[0m\u001b[0m\n\u001b[0m\u001b[1;32m    576\u001b[0m \u001b[0;34m\u001b[0m\u001b[0m\n\u001b[1;32m    577\u001b[0m     \u001b[0;32mif\u001b[0m \u001b[0mchunksize\u001b[0m \u001b[0;32mor\u001b[0m \u001b[0miterator\u001b[0m\u001b[0;34m:\u001b[0m\u001b[0;34m\u001b[0m\u001b[0;34m\u001b[0m\u001b[0m\n",
            "\u001b[0;32m/usr/local/lib/python3.9/dist-packages/pandas/io/parsers/readers.py\u001b[0m in \u001b[0;36m__init__\u001b[0;34m(self, f, engine, **kwds)\u001b[0m\n\u001b[1;32m    930\u001b[0m \u001b[0;34m\u001b[0m\u001b[0m\n\u001b[1;32m    931\u001b[0m         \u001b[0mself\u001b[0m\u001b[0;34m.\u001b[0m\u001b[0mhandles\u001b[0m\u001b[0;34m:\u001b[0m \u001b[0mIOHandles\u001b[0m \u001b[0;34m|\u001b[0m \u001b[0;32mNone\u001b[0m \u001b[0;34m=\u001b[0m \u001b[0;32mNone\u001b[0m\u001b[0;34m\u001b[0m\u001b[0;34m\u001b[0m\u001b[0m\n\u001b[0;32m--> 932\u001b[0;31m         \u001b[0mself\u001b[0m\u001b[0;34m.\u001b[0m\u001b[0m_engine\u001b[0m \u001b[0;34m=\u001b[0m \u001b[0mself\u001b[0m\u001b[0;34m.\u001b[0m\u001b[0m_make_engine\u001b[0m\u001b[0;34m(\u001b[0m\u001b[0mf\u001b[0m\u001b[0;34m,\u001b[0m \u001b[0mself\u001b[0m\u001b[0;34m.\u001b[0m\u001b[0mengine\u001b[0m\u001b[0;34m)\u001b[0m\u001b[0;34m\u001b[0m\u001b[0;34m\u001b[0m\u001b[0m\n\u001b[0m\u001b[1;32m    933\u001b[0m \u001b[0;34m\u001b[0m\u001b[0m\n\u001b[1;32m    934\u001b[0m     \u001b[0;32mdef\u001b[0m \u001b[0mclose\u001b[0m\u001b[0;34m(\u001b[0m\u001b[0mself\u001b[0m\u001b[0;34m)\u001b[0m\u001b[0;34m:\u001b[0m\u001b[0;34m\u001b[0m\u001b[0;34m\u001b[0m\u001b[0m\n",
            "\u001b[0;32m/usr/local/lib/python3.9/dist-packages/pandas/io/parsers/readers.py\u001b[0m in \u001b[0;36m_make_engine\u001b[0;34m(self, f, engine)\u001b[0m\n\u001b[1;32m   1214\u001b[0m             \u001b[0;31m# \"Union[str, PathLike[str], ReadCsvBuffer[bytes], ReadCsvBuffer[str]]\"\u001b[0m\u001b[0;34m\u001b[0m\u001b[0;34m\u001b[0m\u001b[0m\n\u001b[1;32m   1215\u001b[0m             \u001b[0;31m# , \"str\", \"bool\", \"Any\", \"Any\", \"Any\", \"Any\", \"Any\"\u001b[0m\u001b[0;34m\u001b[0m\u001b[0;34m\u001b[0m\u001b[0m\n\u001b[0;32m-> 1216\u001b[0;31m             self.handles = get_handle(  # type: ignore[call-overload]\n\u001b[0m\u001b[1;32m   1217\u001b[0m                 \u001b[0mf\u001b[0m\u001b[0;34m,\u001b[0m\u001b[0;34m\u001b[0m\u001b[0;34m\u001b[0m\u001b[0m\n\u001b[1;32m   1218\u001b[0m                 \u001b[0mmode\u001b[0m\u001b[0;34m,\u001b[0m\u001b[0;34m\u001b[0m\u001b[0;34m\u001b[0m\u001b[0m\n",
            "\u001b[0;32m/usr/local/lib/python3.9/dist-packages/pandas/io/common.py\u001b[0m in \u001b[0;36mget_handle\u001b[0;34m(path_or_buf, mode, encoding, compression, memory_map, is_text, errors, storage_options)\u001b[0m\n\u001b[1;32m    784\u001b[0m         \u001b[0;32mif\u001b[0m \u001b[0mioargs\u001b[0m\u001b[0;34m.\u001b[0m\u001b[0mencoding\u001b[0m \u001b[0;32mand\u001b[0m \u001b[0;34m\"b\"\u001b[0m \u001b[0;32mnot\u001b[0m \u001b[0;32min\u001b[0m \u001b[0mioargs\u001b[0m\u001b[0;34m.\u001b[0m\u001b[0mmode\u001b[0m\u001b[0;34m:\u001b[0m\u001b[0;34m\u001b[0m\u001b[0;34m\u001b[0m\u001b[0m\n\u001b[1;32m    785\u001b[0m             \u001b[0;31m# Encoding\u001b[0m\u001b[0;34m\u001b[0m\u001b[0;34m\u001b[0m\u001b[0m\n\u001b[0;32m--> 786\u001b[0;31m             handle = open(\n\u001b[0m\u001b[1;32m    787\u001b[0m                 \u001b[0mhandle\u001b[0m\u001b[0;34m,\u001b[0m\u001b[0;34m\u001b[0m\u001b[0;34m\u001b[0m\u001b[0m\n\u001b[1;32m    788\u001b[0m                 \u001b[0mioargs\u001b[0m\u001b[0;34m.\u001b[0m\u001b[0mmode\u001b[0m\u001b[0;34m,\u001b[0m\u001b[0;34m\u001b[0m\u001b[0;34m\u001b[0m\u001b[0m\n",
            "\u001b[0;31mFileNotFoundError\u001b[0m: [Errno 2] No such file or directory: './data.csv'"
          ]
        }
      ],
      "source": [
        "df = pd.read_csv('./data.csv')"
      ]
    },
    {
      "cell_type": "code",
      "execution_count": null,
      "metadata": {
        "id": "CTiXU0vKY30f"
      },
      "outputs": [],
      "source": [
        "pd.set_option('display.max_columns', None)"
      ]
    },
    {
      "cell_type": "code",
      "execution_count": null,
      "metadata": {
        "id": "csBZMnAIY30g",
        "outputId": "2b974e63-5998-49af-8374-a98363903ad0"
      },
      "outputs": [
        {
          "data": {
            "text/html": [
              "<div>\n",
              "<style scoped>\n",
              "    .dataframe tbody tr th:only-of-type {\n",
              "        vertical-align: middle;\n",
              "    }\n",
              "\n",
              "    .dataframe tbody tr th {\n",
              "        vertical-align: top;\n",
              "    }\n",
              "\n",
              "    .dataframe thead th {\n",
              "        text-align: right;\n",
              "    }\n",
              "</style>\n",
              "<table border=\"1\" class=\"dataframe\">\n",
              "  <thead>\n",
              "    <tr style=\"text-align: right;\">\n",
              "      <th></th>\n",
              "      <th>name</th>\n",
              "      <th>alexa_rank</th>\n",
              "      <th>city</th>\n",
              "      <th>state</th>\n",
              "      <th>country</th>\n",
              "      <th>hq</th>\n",
              "      <th>website</th>\n",
              "      <th>employees_on_linkedin</th>\n",
              "      <th>followers</th>\n",
              "      <th>founded</th>\n",
              "      <th>industry</th>\n",
              "      <th>linkedin_url</th>\n",
              "      <th>overview</th>\n",
              "      <th>ownership_type</th>\n",
              "      <th>sic_codes</th>\n",
              "      <th>size</th>\n",
              "      <th>specialties</th>\n",
              "      <th>total_funding</th>\n",
              "      <th>technologies</th>\n",
              "      <th>company_hubs</th>\n",
              "      <th>events</th>\n",
              "      <th>categories</th>\n",
              "      <th>type</th>\n",
              "    </tr>\n",
              "  </thead>\n",
              "  <tbody>\n",
              "    <tr>\n",
              "      <th>0</th>\n",
              "      <td>Supli</td>\n",
              "      <td>NaN</td>\n",
              "      <td>Paris</td>\n",
              "      <td>√éle-de-France</td>\n",
              "      <td>France</td>\n",
              "      <td>Paris, √éle-de-France</td>\n",
              "      <td>https://supli.com/</td>\n",
              "      <td>22</td>\n",
              "      <td>1074</td>\n",
              "      <td>2017.0</td>\n",
              "      <td>Restaurants</td>\n",
              "      <td>https://www.linkedin.com/company/supli</td>\n",
              "      <td>Lib√©rez votre activit√© avec la plateforme de...</td>\n",
              "      <td>Partnership</td>\n",
              "      <td>NaN</td>\n",
              "      <td>11-50 employees</td>\n",
              "      <td>saas, ERP, plateforme, restauration, grossiste...</td>\n",
              "      <td>0</td>\n",
              "      <td>NaN</td>\n",
              "      <td>NaN</td>\n",
              "      <td>NaN</td>\n",
              "      <td>NaN</td>\n",
              "      <td>B2B</td>\n",
              "    </tr>\n",
              "    <tr>\n",
              "      <th>1</th>\n",
              "      <td>Bandwidth Recruitment</td>\n",
              "      <td>NaN</td>\n",
              "      <td>Hove</td>\n",
              "      <td>England</td>\n",
              "      <td>United Kingdom</td>\n",
              "      <td>Hove, East Sussex</td>\n",
              "      <td>http://www.bandwidthrecruitment.com</td>\n",
              "      <td>2</td>\n",
              "      <td>484</td>\n",
              "      <td>2009.0</td>\n",
              "      <td>Staffing and Recruiting</td>\n",
              "      <td>https://www.linkedin.com/company/bandwidth-rec...</td>\n",
              "      <td>Bandwidth Recruitment is an independent specia...</td>\n",
              "      <td>Privately Held</td>\n",
              "      <td>NaN</td>\n",
              "      <td>2-10 employees</td>\n",
              "      <td>Cards and payments recruitment</td>\n",
              "      <td>0</td>\n",
              "      <td>New Relic, YouTube, Eventbrite, Microsoft Offi...</td>\n",
              "      <td>NaN</td>\n",
              "      <td>PAY 360</td>\n",
              "      <td>Consulting, Human Resources, Insurance, Small ...</td>\n",
              "      <td>B2B</td>\n",
              "    </tr>\n",
              "    <tr>\n",
              "      <th>2</th>\n",
              "      <td>VCV.AI</td>\n",
              "      <td>NaN</td>\n",
              "      <td>Menlo Park</td>\n",
              "      <td>California</td>\n",
              "      <td>United States</td>\n",
              "      <td>Menlo Park, California</td>\n",
              "      <td>http://vcv.ai/</td>\n",
              "      <td>40</td>\n",
              "      <td>877</td>\n",
              "      <td>2017.0</td>\n",
              "      <td>Information Technology and Services</td>\n",
              "      <td>https://www.linkedin.com/company/vcv-ai</td>\n",
              "      <td>VCV automates 4 steps of recruitment in one fr...</td>\n",
              "      <td>Privately Held</td>\n",
              "      <td>NaN</td>\n",
              "      <td>11-50 employees</td>\n",
              "      <td>assessment, recruitment, selection, hiring, HR...</td>\n",
              "      <td>150000</td>\n",
              "      <td>Amazon SES</td>\n",
              "      <td>Companies with a .AI domain, Growjo 10000, 500...</td>\n",
              "      <td>NaN</td>\n",
              "      <td>Artificial Intelligence, Recruiting, Human Res...</td>\n",
              "      <td>B2B</td>\n",
              "    </tr>\n",
              "    <tr>\n",
              "      <th>3</th>\n",
              "      <td>Scalable Press Employees, Location, Careers</td>\n",
              "      <td>NaN</td>\n",
              "      <td>Newark</td>\n",
              "      <td>California</td>\n",
              "      <td>United States</td>\n",
              "      <td>Newark, California</td>\n",
              "      <td>https://scalablepress.com</td>\n",
              "      <td>112</td>\n",
              "      <td>11322</td>\n",
              "      <td>2012.0</td>\n",
              "      <td>Printing</td>\n",
              "      <td>https://www.linkedin.com/company/scalablepress</td>\n",
              "      <td>At Scalable Press we're building the next gene...</td>\n",
              "      <td>Public Company</td>\n",
              "      <td>NaN</td>\n",
              "      <td>501-1000 employees</td>\n",
              "      <td>Promotional Products Supplier, Industrial Auto...</td>\n",
              "      <td>0</td>\n",
              "      <td>HubSpot, New Relic, React, Salesforce, Sendgri...</td>\n",
              "      <td>NaN</td>\n",
              "      <td>Integrated Systems Europe 2020</td>\n",
              "      <td>Software Engineering, Retail Technology, Indus...</td>\n",
              "      <td>B2B B2C</td>\n",
              "    </tr>\n",
              "    <tr>\n",
              "      <th>4</th>\n",
              "      <td>Stuffwrap</td>\n",
              "      <td>NaN</td>\n",
              "      <td>NaN</td>\n",
              "      <td>NaN</td>\n",
              "      <td>Unknown</td>\n",
              "      <td>Unknown</td>\n",
              "      <td>http://www.stuffwrap.com</td>\n",
              "      <td>0</td>\n",
              "      <td>21</td>\n",
              "      <td>2012.0</td>\n",
              "      <td>Information Services</td>\n",
              "      <td>https://www.linkedin.com/company/stuffwrap</td>\n",
              "      <td>Stuffwrap is a platform where you turn your wi...</td>\n",
              "      <td>Public Company</td>\n",
              "      <td>NaN</td>\n",
              "      <td>2-10 employees</td>\n",
              "      <td>Sale and swap your stuff, Buying and selling, ...</td>\n",
              "      <td>0</td>\n",
              "      <td>Microsoft ASP.NET</td>\n",
              "      <td>NaN</td>\n",
              "      <td>NaN</td>\n",
              "      <td>Information Services, Social Network,</td>\n",
              "      <td>B2C</td>\n",
              "    </tr>\n",
              "  </tbody>\n",
              "</table>\n",
              "</div>"
            ],
            "text/plain": [
              "                                          name  alexa_rank        city  \\\n",
              "0                                        Supli         NaN       Paris   \n",
              "1                        Bandwidth Recruitment         NaN        Hove   \n",
              "2                                       VCV.AI         NaN  Menlo Park   \n",
              "3  Scalable Press Employees, Location, Careers         NaN      Newark   \n",
              "4                                    Stuffwrap         NaN         NaN   \n",
              "\n",
              "            state         country                      hq  \\\n",
              "0  √éle-de-France          France   Paris, √éle-de-France   \n",
              "1         England  United Kingdom       Hove, East Sussex   \n",
              "2      California   United States  Menlo Park, California   \n",
              "3      California   United States      Newark, California   \n",
              "4             NaN         Unknown                 Unknown   \n",
              "\n",
              "                               website  employees_on_linkedin  followers  \\\n",
              "0                   https://supli.com/                     22       1074   \n",
              "1  http://www.bandwidthrecruitment.com                      2        484   \n",
              "2                       http://vcv.ai/                     40        877   \n",
              "3            https://scalablepress.com                    112      11322   \n",
              "4             http://www.stuffwrap.com                      0         21   \n",
              "\n",
              "   founded                             industry  \\\n",
              "0   2017.0                          Restaurants   \n",
              "1   2009.0              Staffing and Recruiting   \n",
              "2   2017.0  Information Technology and Services   \n",
              "3   2012.0                             Printing   \n",
              "4   2012.0                 Information Services   \n",
              "\n",
              "                                        linkedin_url  \\\n",
              "0             https://www.linkedin.com/company/supli   \n",
              "1  https://www.linkedin.com/company/bandwidth-rec...   \n",
              "2            https://www.linkedin.com/company/vcv-ai   \n",
              "3     https://www.linkedin.com/company/scalablepress   \n",
              "4         https://www.linkedin.com/company/stuffwrap   \n",
              "\n",
              "                                            overview  ownership_type  \\\n",
              "0  Lib√©rez votre activit√© avec la plateforme de...     Partnership   \n",
              "1  Bandwidth Recruitment is an independent specia...  Privately Held   \n",
              "2  VCV automates 4 steps of recruitment in one fr...  Privately Held   \n",
              "3  At Scalable Press we're building the next gene...  Public Company   \n",
              "4  Stuffwrap is a platform where you turn your wi...  Public Company   \n",
              "\n",
              "  sic_codes                size  \\\n",
              "0       NaN     11-50 employees   \n",
              "1       NaN      2-10 employees   \n",
              "2       NaN     11-50 employees   \n",
              "3       NaN  501-1000 employees   \n",
              "4       NaN      2-10 employees   \n",
              "\n",
              "                                         specialties  total_funding  \\\n",
              "0  saas, ERP, plateforme, restauration, grossiste...              0   \n",
              "1                     Cards and payments recruitment              0   \n",
              "2  assessment, recruitment, selection, hiring, HR...         150000   \n",
              "3  Promotional Products Supplier, Industrial Auto...              0   \n",
              "4  Sale and swap your stuff, Buying and selling, ...              0   \n",
              "\n",
              "                                        technologies  \\\n",
              "0                                                NaN   \n",
              "1  New Relic, YouTube, Eventbrite, Microsoft Offi...   \n",
              "2                                         Amazon SES   \n",
              "3  HubSpot, New Relic, React, Salesforce, Sendgri...   \n",
              "4                                  Microsoft ASP.NET   \n",
              "\n",
              "                                        company_hubs  \\\n",
              "0                                                NaN   \n",
              "1                                                NaN   \n",
              "2  Companies with a .AI domain, Growjo 10000, 500...   \n",
              "3                                                NaN   \n",
              "4                                                NaN   \n",
              "\n",
              "                           events  \\\n",
              "0                             NaN   \n",
              "1                         PAY 360   \n",
              "2                             NaN   \n",
              "3  Integrated Systems Europe 2020   \n",
              "4                             NaN   \n",
              "\n",
              "                                          categories     type  \n",
              "0                                                NaN      B2B  \n",
              "1  Consulting, Human Resources, Insurance, Small ...      B2B  \n",
              "2  Artificial Intelligence, Recruiting, Human Res...      B2B  \n",
              "3  Software Engineering, Retail Technology, Indus...  B2B B2C  \n",
              "4              Information Services, Social Network,      B2C  "
            ]
          },
          "execution_count": 94,
          "metadata": {},
          "output_type": "execute_result"
        }
      ],
      "source": [
        "df.head()"
      ]
    },
    {
      "cell_type": "code",
      "execution_count": null,
      "metadata": {
        "id": "aP9xD_oEY30h",
        "outputId": "28fffca1-4eb7-469a-80c6-21eeacbbfcd9"
      },
      "outputs": [
        {
          "data": {
            "text/plain": [
              "Index(['name', 'alexa_rank', 'city', 'state', 'country', 'hq', 'website',\n",
              "       'employees_on_linkedin', 'followers', 'founded', 'industry',\n",
              "       'linkedin_url', 'overview', 'ownership_type', 'sic_codes', 'size',\n",
              "       'specialties', 'total_funding', 'technologies', 'company_hubs',\n",
              "       'events', 'categories', 'type'],\n",
              "      dtype='object')"
            ]
          },
          "execution_count": 95,
          "metadata": {},
          "output_type": "execute_result"
        }
      ],
      "source": [
        "df.columns"
      ]
    },
    {
      "cell_type": "code",
      "execution_count": null,
      "metadata": {
        "id": "9dk2aHE2Y30i",
        "outputId": "fe597189-b84a-43be-9aad-174700ff1f90"
      },
      "outputs": [
        {
          "data": {
            "text/html": [
              "<div>\n",
              "<style scoped>\n",
              "    .dataframe tbody tr th:only-of-type {\n",
              "        vertical-align: middle;\n",
              "    }\n",
              "\n",
              "    .dataframe tbody tr th {\n",
              "        vertical-align: top;\n",
              "    }\n",
              "\n",
              "    .dataframe thead th {\n",
              "        text-align: right;\n",
              "    }\n",
              "</style>\n",
              "<table border=\"1\" class=\"dataframe\">\n",
              "  <thead>\n",
              "    <tr style=\"text-align: right;\">\n",
              "      <th></th>\n",
              "      <th>alexa_rank</th>\n",
              "      <th>employees_on_linkedin</th>\n",
              "      <th>followers</th>\n",
              "      <th>founded</th>\n",
              "      <th>total_funding</th>\n",
              "    </tr>\n",
              "  </thead>\n",
              "  <tbody>\n",
              "    <tr>\n",
              "      <th>count</th>\n",
              "      <td>214.000000</td>\n",
              "      <td>1799.000000</td>\n",
              "      <td>1799.000000</td>\n",
              "      <td>1543.000000</td>\n",
              "      <td>1.799000e+03</td>\n",
              "    </tr>\n",
              "    <tr>\n",
              "      <th>mean</th>\n",
              "      <td>415985.294393</td>\n",
              "      <td>43.559755</td>\n",
              "      <td>1504.840467</td>\n",
              "      <td>2010.705768</td>\n",
              "      <td>3.039968e+07</td>\n",
              "    </tr>\n",
              "    <tr>\n",
              "      <th>std</th>\n",
              "      <td>278537.061488</td>\n",
              "      <td>304.762881</td>\n",
              "      <td>5883.113006</td>\n",
              "      <td>12.341825</td>\n",
              "      <td>8.312451e+08</td>\n",
              "    </tr>\n",
              "    <tr>\n",
              "      <th>min</th>\n",
              "      <td>33.000000</td>\n",
              "      <td>0.000000</td>\n",
              "      <td>0.000000</td>\n",
              "      <td>1825.000000</td>\n",
              "      <td>0.000000e+00</td>\n",
              "    </tr>\n",
              "    <tr>\n",
              "      <th>25%</th>\n",
              "      <td>161458.750000</td>\n",
              "      <td>2.000000</td>\n",
              "      <td>21.000000</td>\n",
              "      <td>2010.000000</td>\n",
              "      <td>0.000000e+00</td>\n",
              "    </tr>\n",
              "    <tr>\n",
              "      <th>50%</th>\n",
              "      <td>400686.000000</td>\n",
              "      <td>6.000000</td>\n",
              "      <td>127.000000</td>\n",
              "      <td>2014.000000</td>\n",
              "      <td>0.000000e+00</td>\n",
              "    </tr>\n",
              "    <tr>\n",
              "      <th>75%</th>\n",
              "      <td>632575.250000</td>\n",
              "      <td>18.000000</td>\n",
              "      <td>680.500000</td>\n",
              "      <td>2016.000000</td>\n",
              "      <td>0.000000e+00</td>\n",
              "    </tr>\n",
              "    <tr>\n",
              "      <th>max</th>\n",
              "      <td>991704.000000</td>\n",
              "      <td>10011.000000</td>\n",
              "      <td>147481.000000</td>\n",
              "      <td>2021.000000</td>\n",
              "      <td>3.395000e+10</td>\n",
              "    </tr>\n",
              "  </tbody>\n",
              "</table>\n",
              "</div>"
            ],
            "text/plain": [
              "          alexa_rank  employees_on_linkedin      followers      founded  \\\n",
              "count     214.000000            1799.000000    1799.000000  1543.000000   \n",
              "mean   415985.294393              43.559755    1504.840467  2010.705768   \n",
              "std    278537.061488             304.762881    5883.113006    12.341825   \n",
              "min        33.000000               0.000000       0.000000  1825.000000   \n",
              "25%    161458.750000               2.000000      21.000000  2010.000000   \n",
              "50%    400686.000000               6.000000     127.000000  2014.000000   \n",
              "75%    632575.250000              18.000000     680.500000  2016.000000   \n",
              "max    991704.000000           10011.000000  147481.000000  2021.000000   \n",
              "\n",
              "       total_funding  \n",
              "count   1.799000e+03  \n",
              "mean    3.039968e+07  \n",
              "std     8.312451e+08  \n",
              "min     0.000000e+00  \n",
              "25%     0.000000e+00  \n",
              "50%     0.000000e+00  \n",
              "75%     0.000000e+00  \n",
              "max     3.395000e+10  "
            ]
          },
          "execution_count": 97,
          "metadata": {},
          "output_type": "execute_result"
        }
      ],
      "source": [
        "df.describe()"
      ]
    },
    {
      "cell_type": "code",
      "execution_count": null,
      "metadata": {
        "id": "JcITQIE0Y30i",
        "outputId": "e2550d0a-c5c5-49e0-f407-52ca864490b6"
      },
      "outputs": [
        {
          "name": "stdout",
          "output_type": "stream",
          "text": [
            "<class 'pandas.core.frame.DataFrame'>\n",
            "RangeIndex: 1799 entries, 0 to 1798\n",
            "Data columns (total 23 columns):\n",
            " #   Column                 Non-Null Count  Dtype  \n",
            "---  ------                 --------------  -----  \n",
            " 0   name                   1799 non-null   object \n",
            " 1   alexa_rank             214 non-null    float64\n",
            " 2   city                   1459 non-null   object \n",
            " 3   state                  1426 non-null   object \n",
            " 4   country                1699 non-null   object \n",
            " 5   hq                     1676 non-null   object \n",
            " 6   website                1798 non-null   object \n",
            " 7   employees_on_linkedin  1799 non-null   int64  \n",
            " 8   followers              1799 non-null   int64  \n",
            " 9   founded                1543 non-null   float64\n",
            " 10  industry               1771 non-null   object \n",
            " 11  linkedin_url           1799 non-null   object \n",
            " 12  overview               1773 non-null   object \n",
            " 13  ownership_type         1672 non-null   object \n",
            " 14  sic_codes              93 non-null     object \n",
            " 15  size                   1726 non-null   object \n",
            " 16  specialties            1335 non-null   object \n",
            " 17  total_funding          1799 non-null   int64  \n",
            " 18  technologies           1139 non-null   object \n",
            " 19  company_hubs           340 non-null    object \n",
            " 20  events                 80 non-null     object \n",
            " 21  categories             1776 non-null   object \n",
            " 22  type                   1799 non-null   object \n",
            "dtypes: float64(2), int64(3), object(18)\n",
            "memory usage: 323.4+ KB\n"
          ]
        }
      ],
      "source": [
        "df.info()"
      ]
    },
    {
      "cell_type": "code",
      "execution_count": null,
      "metadata": {
        "id": "Wx--k6aBY30j",
        "outputId": "f0011360-11d5-47bb-b14b-6e84f8e2eba2"
      },
      "outputs": [
        {
          "data": {
            "text/html": [
              "<div>\n",
              "<style scoped>\n",
              "    .dataframe tbody tr th:only-of-type {\n",
              "        vertical-align: middle;\n",
              "    }\n",
              "\n",
              "    .dataframe tbody tr th {\n",
              "        vertical-align: top;\n",
              "    }\n",
              "\n",
              "    .dataframe thead th {\n",
              "        text-align: right;\n",
              "    }\n",
              "</style>\n",
              "<table border=\"1\" class=\"dataframe\">\n",
              "  <thead>\n",
              "    <tr style=\"text-align: right;\">\n",
              "      <th></th>\n",
              "      <th>name</th>\n",
              "      <th>alexa_rank</th>\n",
              "      <th>city</th>\n",
              "      <th>state</th>\n",
              "      <th>country</th>\n",
              "      <th>hq</th>\n",
              "      <th>website</th>\n",
              "      <th>employees_on_linkedin</th>\n",
              "      <th>followers</th>\n",
              "      <th>founded</th>\n",
              "      <th>industry</th>\n",
              "      <th>linkedin_url</th>\n",
              "      <th>overview</th>\n",
              "      <th>ownership_type</th>\n",
              "      <th>sic_codes</th>\n",
              "      <th>size</th>\n",
              "      <th>specialties</th>\n",
              "      <th>total_funding</th>\n",
              "      <th>technologies</th>\n",
              "      <th>company_hubs</th>\n",
              "      <th>events</th>\n",
              "      <th>categories</th>\n",
              "      <th>type</th>\n",
              "    </tr>\n",
              "  </thead>\n",
              "  <tbody>\n",
              "    <tr>\n",
              "      <th>2</th>\n",
              "      <td>VCV.AI</td>\n",
              "      <td>NaN</td>\n",
              "      <td>Menlo Park</td>\n",
              "      <td>California</td>\n",
              "      <td>United States</td>\n",
              "      <td>Menlo Park, California</td>\n",
              "      <td>http://vcv.ai/</td>\n",
              "      <td>40</td>\n",
              "      <td>877</td>\n",
              "      <td>2017.0</td>\n",
              "      <td>Information Technology and Services</td>\n",
              "      <td>https://www.linkedin.com/company/vcv-ai</td>\n",
              "      <td>VCV automates 4 steps of recruitment in one fr...</td>\n",
              "      <td>Privately Held</td>\n",
              "      <td>NaN</td>\n",
              "      <td>11-50 employees</td>\n",
              "      <td>assessment, recruitment, selection, hiring, HR...</td>\n",
              "      <td>150000</td>\n",
              "      <td>Amazon SES</td>\n",
              "      <td>Companies with a .AI domain, Growjo 10000, 500...</td>\n",
              "      <td>NaN</td>\n",
              "      <td>Artificial Intelligence, Recruiting, Human Res...</td>\n",
              "      <td>B2B</td>\n",
              "    </tr>\n",
              "    <tr>\n",
              "      <th>11</th>\n",
              "      <td>Omdex</td>\n",
              "      <td>NaN</td>\n",
              "      <td>Tehran</td>\n",
              "      <td>Tehran Province</td>\n",
              "      <td>Iran</td>\n",
              "      <td>tehran</td>\n",
              "      <td>http://omdex.ir</td>\n",
              "      <td>8</td>\n",
              "      <td>39</td>\n",
              "      <td>2016.0</td>\n",
              "      <td>Internet</td>\n",
              "      <td>https://www.linkedin.com/company/omdex</td>\n",
              "      <td>OMDEX is a platform for wholesale trade servin...</td>\n",
              "      <td>Privately Held</td>\n",
              "      <td>NaN</td>\n",
              "      <td>11-50 employees</td>\n",
              "      <td>NaN</td>\n",
              "      <td>100000</td>\n",
              "      <td>WordPress</td>\n",
              "      <td>NaN</td>\n",
              "      <td>NaN</td>\n",
              "      <td>Marketplace, E-Commerce,</td>\n",
              "      <td>B2B</td>\n",
              "    </tr>\n",
              "    <tr>\n",
              "      <th>14</th>\n",
              "      <td>Data Screen</td>\n",
              "      <td>NaN</td>\n",
              "      <td>Moscow</td>\n",
              "      <td>NaN</td>\n",
              "      <td>Russia</td>\n",
              "      <td>Moscow, Moscow, Russian Federation</td>\n",
              "      <td>https://data-screen.com/</td>\n",
              "      <td>3</td>\n",
              "      <td>1</td>\n",
              "      <td>2016.0</td>\n",
              "      <td>Information Technology and Services</td>\n",
              "      <td>https://www.linkedin.com/company/data-screen</td>\n",
              "      <td>Data Screen is the only sales experience manag...</td>\n",
              "      <td>Privately Held</td>\n",
              "      <td>NaN</td>\n",
              "      <td>51-200 employees</td>\n",
              "      <td>it, digital, sales experience management</td>\n",
              "      <td>300000</td>\n",
              "      <td>NaN</td>\n",
              "      <td>NaN</td>\n",
              "      <td>NaN</td>\n",
              "      <td>Video, Analytics, Data Visualization, Music St...</td>\n",
              "      <td>B2B</td>\n",
              "    </tr>\n",
              "    <tr>\n",
              "      <th>16</th>\n",
              "      <td>Suavei</td>\n",
              "      <td>NaN</td>\n",
              "      <td>NaN</td>\n",
              "      <td>NaN</td>\n",
              "      <td>NaN</td>\n",
              "      <td>Las Vegas, Nevada, US</td>\n",
              "      <td>https://www.suavei.com</td>\n",
              "      <td>8</td>\n",
              "      <td>174</td>\n",
              "      <td>2016.0</td>\n",
              "      <td>Computer &amp; Network Security</td>\n",
              "      <td>https://www.linkedin.com/company/suavei-inc</td>\n",
              "      <td>The rapid growth of internet-connected wireles...</td>\n",
              "      <td>Privately Held</td>\n",
              "      <td>NaN</td>\n",
              "      <td>2-10 employees</td>\n",
              "      <td>Vulnerability Management, Configuration Auditi...</td>\n",
              "      <td>158000</td>\n",
              "      <td>HubSpot, Eventbrite</td>\n",
              "      <td>NaN</td>\n",
              "      <td>NaN</td>\n",
              "      <td>Information Technology, Cyber Security, Artifi...</td>\n",
              "      <td>B2B</td>\n",
              "    </tr>\n",
              "    <tr>\n",
              "      <th>17</th>\n",
              "      <td>LaunchLeap</td>\n",
              "      <td>NaN</td>\n",
              "      <td>Montreal</td>\n",
              "      <td>Quebec</td>\n",
              "      <td>Canada</td>\n",
              "      <td>Montr√©al</td>\n",
              "      <td>http://launchleap.com</td>\n",
              "      <td>2</td>\n",
              "      <td>152</td>\n",
              "      <td>2014.0</td>\n",
              "      <td>Internet</td>\n",
              "      <td>https://www.linkedin.com/company/launchleap</td>\n",
              "      <td>Featured by eMarketer, Adweek and Business Ins...</td>\n",
              "      <td>Privately Held</td>\n",
              "      <td>NaN</td>\n",
              "      <td>2-10 employees</td>\n",
              "      <td>Insight, Product Launches, Research, Branding,...</td>\n",
              "      <td>250000</td>\n",
              "      <td>React, Sendgrid</td>\n",
              "      <td>NaN</td>\n",
              "      <td>NaN</td>\n",
              "      <td>Internet, Advertising, Brand Marketing, E-Comm...</td>\n",
              "      <td>B2B</td>\n",
              "    </tr>\n",
              "    <tr>\n",
              "      <th>...</th>\n",
              "      <td>...</td>\n",
              "      <td>...</td>\n",
              "      <td>...</td>\n",
              "      <td>...</td>\n",
              "      <td>...</td>\n",
              "      <td>...</td>\n",
              "      <td>...</td>\n",
              "      <td>...</td>\n",
              "      <td>...</td>\n",
              "      <td>...</td>\n",
              "      <td>...</td>\n",
              "      <td>...</td>\n",
              "      <td>...</td>\n",
              "      <td>...</td>\n",
              "      <td>...</td>\n",
              "      <td>...</td>\n",
              "      <td>...</td>\n",
              "      <td>...</td>\n",
              "      <td>...</td>\n",
              "      <td>...</td>\n",
              "      <td>...</td>\n",
              "      <td>...</td>\n",
              "      <td>...</td>\n",
              "    </tr>\n",
              "    <tr>\n",
              "      <th>1782</th>\n",
              "      <td>Yappli</td>\n",
              "      <td>NaN</td>\n",
              "      <td>Minato City</td>\n",
              "      <td>Tokyo</td>\n",
              "      <td>Japan</td>\n",
              "      <td>Minato-ku, Tokyo</td>\n",
              "      <td>https://yappli.co.jp/</td>\n",
              "      <td>27</td>\n",
              "      <td>132</td>\n",
              "      <td>NaN</td>\n",
              "      <td>Information Technology and Services</td>\n",
              "      <td>https://www.linkedin.com/company/yapplijp</td>\n",
              "      <td>Yappli presents application development withou...</td>\n",
              "      <td>Privately Held</td>\n",
              "      <td>NaN</td>\n",
              "      <td>51-200 employees</td>\n",
              "      <td>SaaS, Information Technology, Sales, Commerce,...</td>\n",
              "      <td>49675000</td>\n",
              "      <td>Amazon S3, LiveChat, Marketo, Google AdWords, ...</td>\n",
              "      <td>Japanese Companies with US subsidiary</td>\n",
              "      <td>NaN</td>\n",
              "      <td>Information Technology, Software Engineering, ...</td>\n",
              "      <td>B2B</td>\n",
              "    </tr>\n",
              "    <tr>\n",
              "      <th>1785</th>\n",
              "      <td>Worktel</td>\n",
              "      <td>NaN</td>\n",
              "      <td>Madrid</td>\n",
              "      <td>Community of Madrid</td>\n",
              "      <td>Spain</td>\n",
              "      <td>Madrid, Community of Madrid</td>\n",
              "      <td>https://worktel.com/</td>\n",
              "      <td>3</td>\n",
              "      <td>247</td>\n",
              "      <td>2015.0</td>\n",
              "      <td>Real Estate</td>\n",
              "      <td>https://www.linkedin.com/company/worktel-ofici...</td>\n",
              "      <td>Worktel, is one of the largest corporate offic...</td>\n",
              "      <td>Public Company</td>\n",
              "      <td>NaN</td>\n",
              "      <td>11-50 employees</td>\n",
              "      <td>Coworking, Workspace, Office space, Real estat...</td>\n",
              "      <td>348060</td>\n",
              "      <td>Nodejs, Expressjs, Tidio, LinkedIn Ads, Google...</td>\n",
              "      <td>NaN</td>\n",
              "      <td>NaN</td>\n",
              "      <td>Mobile, Apps, Enterprise, Real Estate, Propert...</td>\n",
              "      <td>B2B</td>\n",
              "    </tr>\n",
              "    <tr>\n",
              "      <th>1788</th>\n",
              "      <td>Maker's Brand</td>\n",
              "      <td>NaN</td>\n",
              "      <td>New York</td>\n",
              "      <td>New York</td>\n",
              "      <td>United States</td>\n",
              "      <td>New York, NY, United States</td>\n",
              "      <td>http://www.makersbrand.com</td>\n",
              "      <td>0</td>\n",
              "      <td>15</td>\n",
              "      <td>2015.0</td>\n",
              "      <td>Internet</td>\n",
              "      <td>https://www.linkedin.com/company/10402717</td>\n",
              "      <td>Maker's Brand is an execution B2C2B platform b...</td>\n",
              "      <td>Privately Held</td>\n",
              "      <td>NaN</td>\n",
              "      <td>11-50 employees</td>\n",
              "      <td>Manufacturing, Prototype, Design, Branding, Ma...</td>\n",
              "      <td>250000</td>\n",
              "      <td>NaN</td>\n",
              "      <td>NaN</td>\n",
              "      <td>NaN</td>\n",
              "      <td>Manufacturing, Retail, E-Commerce, Crowdfundin...</td>\n",
              "      <td>B2B B2C</td>\n",
              "    </tr>\n",
              "    <tr>\n",
              "      <th>1791</th>\n",
              "      <td>SoloStocks</td>\n",
              "      <td>136184.0</td>\n",
              "      <td>Barcelona</td>\n",
              "      <td>Catalonia</td>\n",
              "      <td>Spain</td>\n",
              "      <td>Sant Cugat del Vall√©s, Barcelona</td>\n",
              "      <td>http://www.solostocks.com</td>\n",
              "      <td>22</td>\n",
              "      <td>3589</td>\n",
              "      <td>2000.0</td>\n",
              "      <td>Internet</td>\n",
              "      <td>https://www.linkedin.com/company/solostocks</td>\n",
              "      <td>Generador de negocios entre empresas en Espa√±...</td>\n",
              "      <td>Privately Held</td>\n",
              "      <td>NaN</td>\n",
              "      <td>11-50 employees</td>\n",
              "      <td>e-commerce, , empresas, compraventa, pymes, au...</td>\n",
              "      <td>1856000</td>\n",
              "      <td>Amazon Cloudfront, Amazon Web Services, Google...</td>\n",
              "      <td>NaN</td>\n",
              "      <td>NaN</td>\n",
              "      <td>E-Commerce,</td>\n",
              "      <td>B2B</td>\n",
              "    </tr>\n",
              "    <tr>\n",
              "      <th>1797</th>\n",
              "      <td>LeadSecure</td>\n",
              "      <td>NaN</td>\n",
              "      <td>San Francisco</td>\n",
              "      <td>California</td>\n",
              "      <td>United States</td>\n",
              "      <td>San Francisco</td>\n",
              "      <td>http://www.leadsecure.com</td>\n",
              "      <td>0</td>\n",
              "      <td>15</td>\n",
              "      <td>2014.0</td>\n",
              "      <td>Real Estate</td>\n",
              "      <td>https://www.linkedin.com/company/leadsecure</td>\n",
              "      <td>LeadSecure is the next evolution in lead gener...</td>\n",
              "      <td>Privately Held</td>\n",
              "      <td>NaN</td>\n",
              "      <td>2-10 employees</td>\n",
              "      <td>real estate technology, lead generation</td>\n",
              "      <td>125000</td>\n",
              "      <td>YouTube, Amazon Route 53</td>\n",
              "      <td>NaN</td>\n",
              "      <td>NaN</td>\n",
              "      <td>Internet, Mobile, Video Streaming, Real Estate,</td>\n",
              "      <td>B2B</td>\n",
              "    </tr>\n",
              "  </tbody>\n",
              "</table>\n",
              "<p>441 rows × 23 columns</p>\n",
              "</div>"
            ],
            "text/plain": [
              "               name  alexa_rank           city                state  \\\n",
              "2            VCV.AI         NaN     Menlo Park           California   \n",
              "11            Omdex         NaN         Tehran      Tehran Province   \n",
              "14      Data Screen         NaN         Moscow                  NaN   \n",
              "16           Suavei         NaN            NaN                  NaN   \n",
              "17       LaunchLeap         NaN       Montreal               Quebec   \n",
              "...             ...         ...            ...                  ...   \n",
              "1782         Yappli         NaN    Minato City                Tokyo   \n",
              "1785        Worktel         NaN         Madrid  Community of Madrid   \n",
              "1788  Maker's Brand         NaN       New York             New York   \n",
              "1791     SoloStocks    136184.0      Barcelona            Catalonia   \n",
              "1797     LeadSecure         NaN  San Francisco           California   \n",
              "\n",
              "            country                                  hq  \\\n",
              "2     United States              Menlo Park, California   \n",
              "11             Iran                              tehran   \n",
              "14           Russia  Moscow, Moscow, Russian Federation   \n",
              "16              NaN               Las Vegas, Nevada, US   \n",
              "17           Canada                           Montr√©al   \n",
              "...             ...                                 ...   \n",
              "1782          Japan                    Minato-ku, Tokyo   \n",
              "1785          Spain         Madrid, Community of Madrid   \n",
              "1788  United States         New York, NY, United States   \n",
              "1791          Spain   Sant Cugat del Vall√©s, Barcelona   \n",
              "1797  United States                       San Francisco   \n",
              "\n",
              "                         website  employees_on_linkedin  followers  founded  \\\n",
              "2                 http://vcv.ai/                     40        877   2017.0   \n",
              "11               http://omdex.ir                      8         39   2016.0   \n",
              "14      https://data-screen.com/                      3          1   2016.0   \n",
              "16        https://www.suavei.com                      8        174   2016.0   \n",
              "17         http://launchleap.com                      2        152   2014.0   \n",
              "...                          ...                    ...        ...      ...   \n",
              "1782       https://yappli.co.jp/                     27        132      NaN   \n",
              "1785        https://worktel.com/                      3        247   2015.0   \n",
              "1788  http://www.makersbrand.com                      0         15   2015.0   \n",
              "1791   http://www.solostocks.com                     22       3589   2000.0   \n",
              "1797   http://www.leadsecure.com                      0         15   2014.0   \n",
              "\n",
              "                                 industry  \\\n",
              "2     Information Technology and Services   \n",
              "11                               Internet   \n",
              "14    Information Technology and Services   \n",
              "16            Computer & Network Security   \n",
              "17                               Internet   \n",
              "...                                   ...   \n",
              "1782  Information Technology and Services   \n",
              "1785                          Real Estate   \n",
              "1788                             Internet   \n",
              "1791                             Internet   \n",
              "1797                          Real Estate   \n",
              "\n",
              "                                           linkedin_url  \\\n",
              "2               https://www.linkedin.com/company/vcv-ai   \n",
              "11               https://www.linkedin.com/company/omdex   \n",
              "14         https://www.linkedin.com/company/data-screen   \n",
              "16          https://www.linkedin.com/company/suavei-inc   \n",
              "17          https://www.linkedin.com/company/launchleap   \n",
              "...                                                 ...   \n",
              "1782          https://www.linkedin.com/company/yapplijp   \n",
              "1785  https://www.linkedin.com/company/worktel-ofici...   \n",
              "1788          https://www.linkedin.com/company/10402717   \n",
              "1791        https://www.linkedin.com/company/solostocks   \n",
              "1797        https://www.linkedin.com/company/leadsecure   \n",
              "\n",
              "                                               overview  ownership_type  \\\n",
              "2     VCV automates 4 steps of recruitment in one fr...  Privately Held   \n",
              "11    OMDEX is a platform for wholesale trade servin...  Privately Held   \n",
              "14    Data Screen is the only sales experience manag...  Privately Held   \n",
              "16    The rapid growth of internet-connected wireles...  Privately Held   \n",
              "17    Featured by eMarketer, Adweek and Business Ins...  Privately Held   \n",
              "...                                                 ...             ...   \n",
              "1782  Yappli presents application development withou...  Privately Held   \n",
              "1785  Worktel, is one of the largest corporate offic...  Public Company   \n",
              "1788  Maker's Brand is an execution B2C2B platform b...  Privately Held   \n",
              "1791  Generador de negocios entre empresas en Espa√±...  Privately Held   \n",
              "1797  LeadSecure is the next evolution in lead gener...  Privately Held   \n",
              "\n",
              "     sic_codes              size  \\\n",
              "2          NaN   11-50 employees   \n",
              "11         NaN   11-50 employees   \n",
              "14         NaN  51-200 employees   \n",
              "16         NaN    2-10 employees   \n",
              "17         NaN    2-10 employees   \n",
              "...        ...               ...   \n",
              "1782       NaN  51-200 employees   \n",
              "1785       NaN   11-50 employees   \n",
              "1788       NaN   11-50 employees   \n",
              "1791       NaN   11-50 employees   \n",
              "1797       NaN    2-10 employees   \n",
              "\n",
              "                                            specialties  total_funding  \\\n",
              "2     assessment, recruitment, selection, hiring, HR...         150000   \n",
              "11                                                  NaN         100000   \n",
              "14             it, digital, sales experience management         300000   \n",
              "16    Vulnerability Management, Configuration Auditi...         158000   \n",
              "17    Insight, Product Launches, Research, Branding,...         250000   \n",
              "...                                                 ...            ...   \n",
              "1782  SaaS, Information Technology, Sales, Commerce,...       49675000   \n",
              "1785  Coworking, Workspace, Office space, Real estat...         348060   \n",
              "1788  Manufacturing, Prototype, Design, Branding, Ma...         250000   \n",
              "1791  e-commerce, , empresas, compraventa, pymes, au...        1856000   \n",
              "1797            real estate technology, lead generation         125000   \n",
              "\n",
              "                                           technologies  \\\n",
              "2                                            Amazon SES   \n",
              "11                                            WordPress   \n",
              "14                                                  NaN   \n",
              "16                                  HubSpot, Eventbrite   \n",
              "17                                      React, Sendgrid   \n",
              "...                                                 ...   \n",
              "1782  Amazon S3, LiveChat, Marketo, Google AdWords, ...   \n",
              "1785  Nodejs, Expressjs, Tidio, LinkedIn Ads, Google...   \n",
              "1788                                                NaN   \n",
              "1791  Amazon Cloudfront, Amazon Web Services, Google...   \n",
              "1797                           YouTube, Amazon Route 53   \n",
              "\n",
              "                                           company_hubs events  \\\n",
              "2     Companies with a .AI domain, Growjo 10000, 500...    NaN   \n",
              "11                                                  NaN    NaN   \n",
              "14                                                  NaN    NaN   \n",
              "16                                                  NaN    NaN   \n",
              "17                                                  NaN    NaN   \n",
              "...                                                 ...    ...   \n",
              "1782              Japanese Companies with US subsidiary    NaN   \n",
              "1785                                                NaN    NaN   \n",
              "1788                                                NaN    NaN   \n",
              "1791                                                NaN    NaN   \n",
              "1797                                                NaN    NaN   \n",
              "\n",
              "                                             categories     type  \n",
              "2     Artificial Intelligence, Recruiting, Human Res...      B2B  \n",
              "11                             Marketplace, E-Commerce,      B2B  \n",
              "14    Video, Analytics, Data Visualization, Music St...      B2B  \n",
              "16    Information Technology, Cyber Security, Artifi...      B2B  \n",
              "17    Internet, Advertising, Brand Marketing, E-Comm...      B2B  \n",
              "...                                                 ...      ...  \n",
              "1782  Information Technology, Software Engineering, ...      B2B  \n",
              "1785  Mobile, Apps, Enterprise, Real Estate, Propert...      B2B  \n",
              "1788  Manufacturing, Retail, E-Commerce, Crowdfundin...  B2B B2C  \n",
              "1791                                        E-Commerce,      B2B  \n",
              "1797    Internet, Mobile, Video Streaming, Real Estate,      B2B  \n",
              "\n",
              "[441 rows x 23 columns]"
            ]
          },
          "execution_count": 106,
          "metadata": {},
          "output_type": "execute_result"
        }
      ],
      "source": [
        "df_fund"
      ]
    },
    {
      "cell_type": "code",
      "execution_count": null,
      "metadata": {
        "id": "mVmP5IFoY30j",
        "outputId": "29f3466c-bf95-4a81-d1a0-0ef9fe958979"
      },
      "outputs": [
        {
          "data": {
            "text/plain": [
              "<AxesSubplot:xlabel='total_funding', ylabel='Count'>"
            ]
          },
          "execution_count": 124,
          "metadata": {},
          "output_type": "execute_result"
        },
        {
          "data": {
            "image/png": "[encoded data removed]",
            "text/plain": [
              "<Figure size 432x288 with 1 Axes>"
            ]
          },
          "metadata": {
            "needs_background": "light"
          },
          "output_type": "display_data"
        }
      ],
      "source": [
        "df_fund = df.loc[df.total_funding!=0]\n",
        "sns.histplot(df_fund, x='total_funding', bins=40)"
      ]
    },
    {
      "cell_type": "code",
      "execution_count": null,
      "metadata": {
        "id": "Vt81L1uXY30k",
        "outputId": "3366a8c8-5a75-4f7e-fd5f-bf0710869261"
      },
      "outputs": [
        {
          "data": {
            "image/png": "[encoded data removed]",
            "text/plain": [
              "<Figure size 1152x576 with 1 Axes>"
            ]
          },
          "metadata": {
            "needs_background": "light"
          },
          "output_type": "display_data"
        }
      ],
      "source": [
        "fig, ax = plt.subplots(1, 1, figsize = (16, 8))\n",
        "\n",
        "sns.histplot(data=df, x='events', hue='type')\n",
        "\n",
        "# # title and axis\n",
        "ax.set_title('Analized Companies per Country',  size='x-large')\n",
        "ax.set_ylabel('Number of Companies', size='small', color='C0')\n",
        "ax.tick_params(axis='y', colors='C0')\n",
        "# ax.yaxis.set_major_formatter(mtick.PercentFormatter())\n",
        "\n",
        "# ax.set_xticks(np.arange(len(list(dict_ret_geral.keys()))))\n",
        "# ax.set_xticklabels(labels=list(dict_ret_geral.keys()))\n",
        "plt.setp(ax.get_xticklabels(), rotation=70, horizontalalignment='right')\n",
        "\n",
        "plt.gcf().subplots_adjust(bottom=0.3)\n",
        "\n",
        "plt.show()"
      ]
    },
    {
      "cell_type": "code",
      "execution_count": null,
      "metadata": {
        "id": "DVTdAP_FY30l",
        "outputId": "99833b0d-4d2a-44a0-8651-a848ea09386e"
      },
      "outputs": [
        {
          "data": {
            "image/png": "[encoded data removed]",
            "text/plain": [
              "<Figure size 1152x576 with 1 Axes>"
            ]
          },
          "metadata": {
            "needs_background": "light"
          },
          "output_type": "display_data"
        }
      ],
      "source": [
        "fig, ax = plt.subplots(1, 1, figsize = (16, 8))\n",
        "\n",
        "sns.histplot(data=df, x='country', hue='type', discrete=True, stat='percent')\n",
        "\n",
        "# # title and axis\n",
        "ax.set_title('Analized Companies per Country',  size='x-large')\n",
        "ax.set_ylabel('Number of Companies', size='small', color='C0')\n",
        "ax.tick_params(axis='y', colors='C0')\n",
        "ax.yaxis.set_major_formatter(mtick.PercentFormatter())\n",
        "\n",
        "# ax.set_xticks(np.arange(len(list(dict_ret_geral.keys()))))\n",
        "# ax.set_xticklabels(labels=list(dict_ret_geral.keys()))\n",
        "plt.setp(ax.get_xticklabels(), rotation=70, horizontalalignment='right')\n",
        "\n",
        "plt.gcf().subplots_adjust(bottom=0.3)\n",
        "\n",
        "plt.show()"
      ]
    },
    {
      "cell_type": "code",
      "execution_count": null,
      "metadata": {
        "id": "uORAaRjuY30m",
        "outputId": "4c5749fa-aa36-4c41-f531-2c952ac7aaaa"
      },
      "outputs": [
        {
          "data": {
            "text/plain": [
              "B2B        1312\n",
              "B2B B2C     315\n",
              "B2C         172\n",
              "Name: type, dtype: int64"
            ]
          },
          "execution_count": 35,
          "metadata": {},
          "output_type": "execute_result"
        }
      ],
      "source": [
        "df['type'].value_counts(dropna=False)"
      ]
    },
    {
      "cell_type": "markdown",
      "metadata": {
        "id": "o6FWF2JHY30m"
      },
      "source": [
        "## Data Preprocessing\n",
        "---"
      ]
    },
    {
      "cell_type": "markdown",
      "metadata": {
        "id": "4m4WWMdBY30n"
      },
      "source": [
        "### Removing Columns"
      ]
    },
    {
      "cell_type": "markdown",
      "metadata": {
        "id": "REcIVdA6Y30n"
      },
      "source": [
        "In this step I remove some of the Dataset columns which are not likely to be useful for our model prediction fit.\n",
        "\n",
        "By removing geospatial data such as City, State, Country and HQ , I also avoid Geospatial Biases to be produced by the model, ....\n",
        "\n",
        "The following plots show no apparent corelation between ....\n",
        "\n",
        "The company overview does contain useful information on the company \"type\", but given the unstructured nature of the data and the time constraints on the project at hand, I have decided not to dabble too much on feature engineering over the descriptive texts and disregard the \"overview\" on my classification model. \n",
        "\n",
        "there is also too little data on 'company_hubs' and 'events', with a significant ammount of missing values for those fields on the provided dataset. For that reason I have also chosen not to use those fields on the company type classification model training."
      ]
    },
    {
      "cell_type": "code",
      "execution_count": null,
      "metadata": {
        "id": "T28Ny4YhY30n"
      },
      "outputs": [],
      "source": [
        "df_clean = df.drop(columns=['name', 'alexa_rank', 'city', 'state', 'country', 'hq', 'website',\n",
        "       'linkedin_url', 'overview', 'sic_codes', 'company_hubs', 'events'])"
      ]
    },
    {
      "cell_type": "code",
      "execution_count": null,
      "metadata": {
        "id": "HutsLSJVY30o",
        "outputId": "8416727f-7872-48d7-f512-476c015f52ef"
      },
      "outputs": [
        {
          "data": {
            "text/html": [
              "<div>\n",
              "<style scoped>\n",
              "    .dataframe tbody tr th:only-of-type {\n",
              "        vertical-align: middle;\n",
              "    }\n",
              "\n",
              "    .dataframe tbody tr th {\n",
              "        vertical-align: top;\n",
              "    }\n",
              "\n",
              "    .dataframe thead th {\n",
              "        text-align: right;\n",
              "    }\n",
              "</style>\n",
              "<table border=\"1\" class=\"dataframe\">\n",
              "  <thead>\n",
              "    <tr style=\"text-align: right;\">\n",
              "      <th></th>\n",
              "      <th>employees_on_linkedin</th>\n",
              "      <th>followers</th>\n",
              "      <th>founded</th>\n",
              "      <th>industry</th>\n",
              "      <th>ownership_type</th>\n",
              "      <th>size</th>\n",
              "      <th>specialties</th>\n",
              "      <th>total_funding</th>\n",
              "      <th>technologies</th>\n",
              "      <th>categories</th>\n",
              "      <th>type</th>\n",
              "    </tr>\n",
              "  </thead>\n",
              "  <tbody>\n",
              "    <tr>\n",
              "      <th>0</th>\n",
              "      <td>22</td>\n",
              "      <td>1074</td>\n",
              "      <td>2017.0</td>\n",
              "      <td>Restaurants</td>\n",
              "      <td>Partnership</td>\n",
              "      <td>11-50 employees</td>\n",
              "      <td>saas, ERP, plateforme, restauration, grossiste...</td>\n",
              "      <td>0</td>\n",
              "      <td>NaN</td>\n",
              "      <td>NaN</td>\n",
              "      <td>B2B</td>\n",
              "    </tr>\n",
              "    <tr>\n",
              "      <th>1</th>\n",
              "      <td>2</td>\n",
              "      <td>484</td>\n",
              "      <td>2009.0</td>\n",
              "      <td>Staffing and Recruiting</td>\n",
              "      <td>Privately Held</td>\n",
              "      <td>2-10 employees</td>\n",
              "      <td>Cards and payments recruitment</td>\n",
              "      <td>0</td>\n",
              "      <td>New Relic, YouTube, Eventbrite, Microsoft Offi...</td>\n",
              "      <td>Consulting, Human Resources, Insurance, Small ...</td>\n",
              "      <td>B2B</td>\n",
              "    </tr>\n",
              "    <tr>\n",
              "      <th>2</th>\n",
              "      <td>40</td>\n",
              "      <td>877</td>\n",
              "      <td>2017.0</td>\n",
              "      <td>Information Technology and Services</td>\n",
              "      <td>Privately Held</td>\n",
              "      <td>11-50 employees</td>\n",
              "      <td>assessment, recruitment, selection, hiring, HR...</td>\n",
              "      <td>150000</td>\n",
              "      <td>Amazon SES</td>\n",
              "      <td>Artificial Intelligence, Recruiting, Human Res...</td>\n",
              "      <td>B2B</td>\n",
              "    </tr>\n",
              "    <tr>\n",
              "      <th>3</th>\n",
              "      <td>112</td>\n",
              "      <td>11322</td>\n",
              "      <td>2012.0</td>\n",
              "      <td>Printing</td>\n",
              "      <td>Public Company</td>\n",
              "      <td>501-1000 employees</td>\n",
              "      <td>Promotional Products Supplier, Industrial Auto...</td>\n",
              "      <td>0</td>\n",
              "      <td>HubSpot, New Relic, React, Salesforce, Sendgri...</td>\n",
              "      <td>Software Engineering, Retail Technology, Indus...</td>\n",
              "      <td>B2B B2C</td>\n",
              "    </tr>\n",
              "    <tr>\n",
              "      <th>4</th>\n",
              "      <td>0</td>\n",
              "      <td>21</td>\n",
              "      <td>2012.0</td>\n",
              "      <td>Information Services</td>\n",
              "      <td>Public Company</td>\n",
              "      <td>2-10 employees</td>\n",
              "      <td>Sale and swap your stuff, Buying and selling, ...</td>\n",
              "      <td>0</td>\n",
              "      <td>Microsoft ASP.NET</td>\n",
              "      <td>Information Services, Social Network,</td>\n",
              "      <td>B2C</td>\n",
              "    </tr>\n",
              "    <tr>\n",
              "      <th>...</th>\n",
              "      <td>...</td>\n",
              "      <td>...</td>\n",
              "      <td>...</td>\n",
              "      <td>...</td>\n",
              "      <td>...</td>\n",
              "      <td>...</td>\n",
              "      <td>...</td>\n",
              "      <td>...</td>\n",
              "      <td>...</td>\n",
              "      <td>...</td>\n",
              "      <td>...</td>\n",
              "    </tr>\n",
              "    <tr>\n",
              "      <th>1794</th>\n",
              "      <td>2</td>\n",
              "      <td>6</td>\n",
              "      <td>NaN</td>\n",
              "      <td>Executive Office</td>\n",
              "      <td>Privately Held</td>\n",
              "      <td>0-1 employees</td>\n",
              "      <td>Wellness Management, Entertainment &amp; Film, and...</td>\n",
              "      <td>0</td>\n",
              "      <td>Campaign Monitor</td>\n",
              "      <td>Financial Services,</td>\n",
              "      <td>B2B</td>\n",
              "    </tr>\n",
              "    <tr>\n",
              "      <th>1795</th>\n",
              "      <td>22</td>\n",
              "      <td>123</td>\n",
              "      <td>2013.0</td>\n",
              "      <td>Management Consulting</td>\n",
              "      <td>Privately Held</td>\n",
              "      <td>NaN</td>\n",
              "      <td>Mergers &amp; Acquisitions, Financial modelling, S...</td>\n",
              "      <td>0</td>\n",
              "      <td>NaN</td>\n",
              "      <td>Information Technology, Consulting, CRM,</td>\n",
              "      <td>B2B</td>\n",
              "    </tr>\n",
              "    <tr>\n",
              "      <th>1796</th>\n",
              "      <td>3</td>\n",
              "      <td>89</td>\n",
              "      <td>1964.0</td>\n",
              "      <td>Facilities Services</td>\n",
              "      <td>Privately Held</td>\n",
              "      <td>11-50 employees</td>\n",
              "      <td>Forensic Investigations, Roof Asset Management...</td>\n",
              "      <td>0</td>\n",
              "      <td>NaN</td>\n",
              "      <td>Construction, Facilities Support Services, , A...</td>\n",
              "      <td>B2B</td>\n",
              "    </tr>\n",
              "    <tr>\n",
              "      <th>1797</th>\n",
              "      <td>0</td>\n",
              "      <td>15</td>\n",
              "      <td>2014.0</td>\n",
              "      <td>Real Estate</td>\n",
              "      <td>Privately Held</td>\n",
              "      <td>2-10 employees</td>\n",
              "      <td>real estate technology, lead generation</td>\n",
              "      <td>125000</td>\n",
              "      <td>YouTube, Amazon Route 53</td>\n",
              "      <td>Internet, Mobile, Video Streaming, Real Estate,</td>\n",
              "      <td>B2B</td>\n",
              "    </tr>\n",
              "    <tr>\n",
              "      <th>1798</th>\n",
              "      <td>13</td>\n",
              "      <td>148</td>\n",
              "      <td>2006.0</td>\n",
              "      <td>Insurance</td>\n",
              "      <td>Privately Held</td>\n",
              "      <td>11-50 employees</td>\n",
              "      <td>Commercial Insurance, Global Insurance, Health...</td>\n",
              "      <td>0</td>\n",
              "      <td>Google AdWords</td>\n",
              "      <td>Insurance, Health Care,</td>\n",
              "      <td>B2C</td>\n",
              "    </tr>\n",
              "  </tbody>\n",
              "</table>\n",
              "<p>1799 rows × 11 columns</p>\n",
              "</div>"
            ],
            "text/plain": [
              "      employees_on_linkedin  followers  founded  \\\n",
              "0                        22       1074   2017.0   \n",
              "1                         2        484   2009.0   \n",
              "2                        40        877   2017.0   \n",
              "3                       112      11322   2012.0   \n",
              "4                         0         21   2012.0   \n",
              "...                     ...        ...      ...   \n",
              "1794                      2          6      NaN   \n",
              "1795                     22        123   2013.0   \n",
              "1796                      3         89   1964.0   \n",
              "1797                      0         15   2014.0   \n",
              "1798                     13        148   2006.0   \n",
              "\n",
              "                                 industry  ownership_type                size  \\\n",
              "0                             Restaurants     Partnership     11-50 employees   \n",
              "1                 Staffing and Recruiting  Privately Held      2-10 employees   \n",
              "2     Information Technology and Services  Privately Held     11-50 employees   \n",
              "3                                Printing  Public Company  501-1000 employees   \n",
              "4                    Information Services  Public Company      2-10 employees   \n",
              "...                                   ...             ...                 ...   \n",
              "1794                     Executive Office  Privately Held       0-1 employees   \n",
              "1795                Management Consulting  Privately Held                 NaN   \n",
              "1796                  Facilities Services  Privately Held     11-50 employees   \n",
              "1797                          Real Estate  Privately Held      2-10 employees   \n",
              "1798                            Insurance  Privately Held     11-50 employees   \n",
              "\n",
              "                                            specialties  total_funding  \\\n",
              "0     saas, ERP, plateforme, restauration, grossiste...              0   \n",
              "1                        Cards and payments recruitment              0   \n",
              "2     assessment, recruitment, selection, hiring, HR...         150000   \n",
              "3     Promotional Products Supplier, Industrial Auto...              0   \n",
              "4     Sale and swap your stuff, Buying and selling, ...              0   \n",
              "...                                                 ...            ...   \n",
              "1794  Wellness Management, Entertainment & Film, and...              0   \n",
              "1795  Mergers & Acquisitions, Financial modelling, S...              0   \n",
              "1796  Forensic Investigations, Roof Asset Management...              0   \n",
              "1797            real estate technology, lead generation         125000   \n",
              "1798  Commercial Insurance, Global Insurance, Health...              0   \n",
              "\n",
              "                                           technologies  \\\n",
              "0                                                   NaN   \n",
              "1     New Relic, YouTube, Eventbrite, Microsoft Offi...   \n",
              "2                                            Amazon SES   \n",
              "3     HubSpot, New Relic, React, Salesforce, Sendgri...   \n",
              "4                                     Microsoft ASP.NET   \n",
              "...                                                 ...   \n",
              "1794                                   Campaign Monitor   \n",
              "1795                                                NaN   \n",
              "1796                                                NaN   \n",
              "1797                           YouTube, Amazon Route 53   \n",
              "1798                                     Google AdWords   \n",
              "\n",
              "                                             categories     type  \n",
              "0                                                   NaN      B2B  \n",
              "1     Consulting, Human Resources, Insurance, Small ...      B2B  \n",
              "2     Artificial Intelligence, Recruiting, Human Res...      B2B  \n",
              "3     Software Engineering, Retail Technology, Indus...  B2B B2C  \n",
              "4                 Information Services, Social Network,      B2C  \n",
              "...                                                 ...      ...  \n",
              "1794                                Financial Services,      B2B  \n",
              "1795           Information Technology, Consulting, CRM,      B2B  \n",
              "1796  Construction, Facilities Support Services, , A...      B2B  \n",
              "1797    Internet, Mobile, Video Streaming, Real Estate,      B2B  \n",
              "1798                            Insurance, Health Care,      B2C  \n",
              "\n",
              "[1799 rows x 11 columns]"
            ]
          },
          "execution_count": 185,
          "metadata": {},
          "output_type": "execute_result"
        }
      ],
      "source": [
        "df_clean"
      ]
    },
    {
      "cell_type": "markdown",
      "metadata": {
        "id": "5RU9kBArY30o"
      },
      "source": [
        "### Feature Engineering\n",
        "---"
      ]
    },
    {
      "cell_type": "code",
      "execution_count": null,
      "metadata": {
        "id": "bvhjg-UkY30p"
      },
      "outputs": [],
      "source": [
        "# Import necessary libraries\n",
        "from transformers import pipeline"
      ]
    },
    {
      "cell_type": "markdown",
      "metadata": {
        "id": "zn5Hc32yY30p"
      },
      "source": [
        "#### total_funding:\n",
        "we have data on total_funding for all of our values, nevertheless only 441 companies do have funding, and the funding varies immensely between them. So I will create a categorical feature \"has_funding\" to describe wether a company had funding or not. "
      ]
    },
    {
      "cell_type": "code",
      "execution_count": null,
      "metadata": {
        "id": "zu8C4FR5Y30p",
        "outputId": "78ab9254-1a0c-41b1-8957-d0839933dfc6"
      },
      "outputs": [
        {
          "ename": "KeyError",
          "evalue": "'total_funding'",
          "output_type": "error",
          "traceback": [
            "\u001b[1;31m---------------------------------------------------------------------------\u001b[0m",
            "\u001b[1;31mKeyError\u001b[0m                                  Traceback (most recent call last)",
            "File \u001b[1;32m~\\miniconda3\\lib\\site-packages\\pandas\\core\\indexes\\base.py:3080\u001b[0m, in \u001b[0;36mIndex.get_loc\u001b[1;34m(self, key, method, tolerance)\u001b[0m\n\u001b[0;32m   3079\u001b[0m \u001b[38;5;28;01mtry\u001b[39;00m:\n\u001b[1;32m-> 3080\u001b[0m     \u001b[38;5;28;01mreturn\u001b[39;00m \u001b[38;5;28;43mself\u001b[39;49m\u001b[38;5;241;43m.\u001b[39;49m\u001b[43m_engine\u001b[49m\u001b[38;5;241;43m.\u001b[39;49m\u001b[43mget_loc\u001b[49m\u001b[43m(\u001b[49m\u001b[43mcasted_key\u001b[49m\u001b[43m)\u001b[49m\n\u001b[0;32m   3081\u001b[0m \u001b[38;5;28;01mexcept\u001b[39;00m \u001b[38;5;167;01mKeyError\u001b[39;00m \u001b[38;5;28;01mas\u001b[39;00m err:\n",
            "File \u001b[1;32mpandas\\_libs\\index.pyx:70\u001b[0m, in \u001b[0;36mpandas._libs.index.IndexEngine.get_loc\u001b[1;34m()\u001b[0m\n",
            "File \u001b[1;32mpandas\\_libs\\index.pyx:101\u001b[0m, in \u001b[0;36mpandas._libs.index.IndexEngine.get_loc\u001b[1;34m()\u001b[0m\n",
            "File \u001b[1;32mpandas\\_libs\\hashtable_class_helper.pxi:4554\u001b[0m, in \u001b[0;36mpandas._libs.hashtable.PyObjectHashTable.get_item\u001b[1;34m()\u001b[0m\n",
            "File \u001b[1;32mpandas\\_libs\\hashtable_class_helper.pxi:4562\u001b[0m, in \u001b[0;36mpandas._libs.hashtable.PyObjectHashTable.get_item\u001b[1;34m()\u001b[0m\n",
            "\u001b[1;31mKeyError\u001b[0m: 'total_funding'",
            "\nThe above exception was the direct cause of the following exception:\n",
            "\u001b[1;31mKeyError\u001b[0m                                  Traceback (most recent call last)",
            "Input \u001b[1;32mIn [190]\u001b[0m, in \u001b[0;36m<cell line: 2>\u001b[1;34m()\u001b[0m\n\u001b[0;32m      1\u001b[0m df_clean[\u001b[38;5;124m'\u001b[39m\u001b[38;5;124mhas_funding\u001b[39m\u001b[38;5;124m'\u001b[39m] \u001b[38;5;241m=\u001b[39m \u001b[38;5;241m0\u001b[39m\n\u001b[1;32m----> 2\u001b[0m df_clean\u001b[38;5;241m.\u001b[39mloc[\u001b[43mdf_clean\u001b[49m\u001b[43m[\u001b[49m\u001b[38;5;124;43m'\u001b[39;49m\u001b[38;5;124;43mtotal_funding\u001b[39;49m\u001b[38;5;124;43m'\u001b[39;49m\u001b[43m]\u001b[49m\u001b[38;5;241m!=\u001b[39m\u001b[38;5;241m0\u001b[39m, \u001b[38;5;124m'\u001b[39m\u001b[38;5;124mhas_funding\u001b[39m\u001b[38;5;124m'\u001b[39m] \u001b[38;5;241m=\u001b[39m \u001b[38;5;241m1\u001b[39m\n\u001b[0;32m      3\u001b[0m df_clean\u001b[38;5;241m=\u001b[39mdf_clean\u001b[38;5;241m.\u001b[39mdrop(columns\u001b[38;5;241m=\u001b[39m[\u001b[38;5;124m'\u001b[39m\u001b[38;5;124mtotal_funding\u001b[39m\u001b[38;5;124m'\u001b[39m])\n",
            "File \u001b[1;32m~\\miniconda3\\lib\\site-packages\\pandas\\core\\frame.py:3024\u001b[0m, in \u001b[0;36mDataFrame.__getitem__\u001b[1;34m(self, key)\u001b[0m\n\u001b[0;32m   3022\u001b[0m \u001b[38;5;28;01mif\u001b[39;00m \u001b[38;5;28mself\u001b[39m\u001b[38;5;241m.\u001b[39mcolumns\u001b[38;5;241m.\u001b[39mnlevels \u001b[38;5;241m>\u001b[39m \u001b[38;5;241m1\u001b[39m:\n\u001b[0;32m   3023\u001b[0m     \u001b[38;5;28;01mreturn\u001b[39;00m \u001b[38;5;28mself\u001b[39m\u001b[38;5;241m.\u001b[39m_getitem_multilevel(key)\n\u001b[1;32m-> 3024\u001b[0m indexer \u001b[38;5;241m=\u001b[39m \u001b[38;5;28;43mself\u001b[39;49m\u001b[38;5;241;43m.\u001b[39;49m\u001b[43mcolumns\u001b[49m\u001b[38;5;241;43m.\u001b[39;49m\u001b[43mget_loc\u001b[49m\u001b[43m(\u001b[49m\u001b[43mkey\u001b[49m\u001b[43m)\u001b[49m\n\u001b[0;32m   3025\u001b[0m \u001b[38;5;28;01mif\u001b[39;00m is_integer(indexer):\n\u001b[0;32m   3026\u001b[0m     indexer \u001b[38;5;241m=\u001b[39m [indexer]\n",
            "File \u001b[1;32m~\\miniconda3\\lib\\site-packages\\pandas\\core\\indexes\\base.py:3082\u001b[0m, in \u001b[0;36mIndex.get_loc\u001b[1;34m(self, key, method, tolerance)\u001b[0m\n\u001b[0;32m   3080\u001b[0m         \u001b[38;5;28;01mreturn\u001b[39;00m \u001b[38;5;28mself\u001b[39m\u001b[38;5;241m.\u001b[39m_engine\u001b[38;5;241m.\u001b[39mget_loc(casted_key)\n\u001b[0;32m   3081\u001b[0m     \u001b[38;5;28;01mexcept\u001b[39;00m \u001b[38;5;167;01mKeyError\u001b[39;00m \u001b[38;5;28;01mas\u001b[39;00m err:\n\u001b[1;32m-> 3082\u001b[0m         \u001b[38;5;28;01mraise\u001b[39;00m \u001b[38;5;167;01mKeyError\u001b[39;00m(key) \u001b[38;5;28;01mfrom\u001b[39;00m \u001b[38;5;21;01merr\u001b[39;00m\n\u001b[0;32m   3084\u001b[0m \u001b[38;5;28;01mif\u001b[39;00m tolerance \u001b[38;5;129;01mis\u001b[39;00m \u001b[38;5;129;01mnot\u001b[39;00m \u001b[38;5;28;01mNone\u001b[39;00m:\n\u001b[0;32m   3085\u001b[0m     tolerance \u001b[38;5;241m=\u001b[39m \u001b[38;5;28mself\u001b[39m\u001b[38;5;241m.\u001b[39m_convert_tolerance(tolerance, np\u001b[38;5;241m.\u001b[39masarray(key))\n",
            "\u001b[1;31mKeyError\u001b[0m: 'total_funding'"
          ]
        }
      ],
      "source": [
        "df_clean['has_funding'] = 0\n",
        "df_clean.loc[df_clean['total_funding']!=0, 'has_funding'] = 1\n",
        "df_clean=df_clean.drop(columns=['total_funding'])"
      ]
    },
    {
      "cell_type": "markdown",
      "metadata": {
        "id": "RccSuSrWY30q"
      },
      "source": [
        "#### size:\n",
        "we need to preprocess the strings to exctract information"
      ]
    },
    {
      "cell_type": "code",
      "execution_count": null,
      "metadata": {
        "id": "ESGsyDwuY30q",
        "outputId": "2fdbc41d-5073-48b8-8a68-61e338130e95"
      },
      "outputs": [
        {
          "name": "stderr",
          "output_type": "stream",
          "text": [
            "<ipython-input-191-1909f25729f6>:1: FutureWarning: The default value of regex will change from True to False in a future version.\n",
            "  df_clean['size'] = df_clean['size'].str.replace(r'[^0-9\\-]+', '')\n"
          ]
        }
      ],
      "source": [
        "df_clean['size'] = df_clean['size'].str.replace(r'[^0-9\\-]+', '')"
      ]
    },
    {
      "cell_type": "code",
      "execution_count": null,
      "metadata": {
        "id": "v8_I3rWFY30r"
      },
      "outputs": [],
      "source": [
        "df_clean.loc[df_clean['size']=='10001', 'size']='5001-10000'"
      ]
    },
    {
      "cell_type": "code",
      "execution_count": null,
      "metadata": {
        "id": "AP9u3c-wY30r",
        "outputId": "2e68dd99-96d3-45af-ce92-927473a0f32d"
      },
      "outputs": [
        {
          "data": {
            "text/plain": [
              "2-10          789\n",
              "11-50         597\n",
              "51-200        209\n",
              "201-500        64\n",
              "0-1            35\n",
              "501-1000       14\n",
              "1001-5000      13\n",
              "5001-10000      5\n",
              "Name: size, dtype: int64"
            ]
          },
          "execution_count": 193,
          "metadata": {},
          "output_type": "execute_result"
        }
      ],
      "source": [
        "df_clean['size'].value_counts()"
      ]
    },
    {
      "cell_type": "markdown",
      "metadata": {
        "id": "5rxmqW3iY30r"
      },
      "source": [
        "#### specialties:\n",
        "specialties provides us with valuable information on the company's industry. For the information to be useful, NLP preprocessing must be used for feature extraction, as the terms are too diverse and one-hot encoding of the categories as they are would not be feaseble"
      ]
    },
    {
      "cell_type": "code",
      "execution_count": null,
      "metadata": {
        "id": "Il9eDESzY30s",
        "outputId": "2d90fbc1-dec2-4464-d7f6-ab9cc11d882b"
      },
      "outputs": [
        {
          "data": {
            "text/plain": [
              "0       saas, ERP, plateforme, restauration, grossiste...\n",
              "1                          Cards and payments recruitment\n",
              "2       assessment, recruitment, selection, hiring, HR...\n",
              "3       Promotional Products Supplier, Industrial Auto...\n",
              "4       Sale and swap your stuff, Buying and selling, ...\n",
              "                              ...                        \n",
              "1794    Wellness Management, Entertainment & Film, and...\n",
              "1795    Mergers & Acquisitions, Financial modelling, S...\n",
              "1796    Forensic Investigations, Roof Asset Management...\n",
              "1797              real estate technology, lead generation\n",
              "1798    Commercial Insurance, Global Insurance, Health...\n",
              "Name: specialties, Length: 1799, dtype: object"
            ]
          },
          "execution_count": 197,
          "metadata": {},
          "output_type": "execute_result"
        }
      ],
      "source": [
        "df_clean['specialties']"
      ]
    },
    {
      "cell_type": "code",
      "execution_count": null,
      "metadata": {
        "id": "-RMda92yY30s",
        "outputId": "e2472989-eea5-41ae-bccc-5fbd284ceca1"
      },
      "outputs": [
        {
          "name": "stdout",
          "output_type": "stream",
          "text": [
            "saas, ERP, plateforme, restauration, grossiste, fournisseur, application de commandes, canal d'acquisition de nouveaux clients\n",
            "---\n",
            "Cards and payments recruitment\n",
            "---\n",
            "assessment, recruitment, selection, hiring, HR, recruiting, automation, AI, proctoring, video resume, Videointerview\n",
            "---\n",
            "Promotional Products Supplier, Industrial Automation, Promotional Merchandise, ASI, Custom Printed Apparel, PPAI, Shopify Integration, Custom Printed Hard Goods, JIT Printing, Programmatic Printing, White-label Fulfillment\n",
            "---\n",
            "Sale and swap your stuff, Buying and selling, Create have list and wish list, B2c\n",
            "---\n"
          ]
        }
      ],
      "source": [
        "for spec in df_clean['specialties'][:5]:\n",
        "    print(spec)\n",
        "    print('---')"
      ]
    },
    {
      "cell_type": "code",
      "execution_count": null,
      "metadata": {
        "colab": {
          "referenced_widgets": [
            "6ce477cf7e8d4c11846006ffadc28264"
          ]
        },
        "id": "yWcDQGUBY30t",
        "outputId": "dd6c1dbd-f532-4378-f209-44a01c4cef4e"
      },
      "outputs": [
        {
          "data": {
            "application/vnd.jupyter.widget-view+json": {
              "model_id": "6ce477cf7e8d4c11846006ffadc28264",
              "version_major": 2,
              "version_minor": 0
            },
            "text/plain": [
              "Downloading:   0%|          | 0.00/440M [00:00<?, ?B/s]"
            ]
          },
          "metadata": {},
          "output_type": "display_data"
        },
        {
          "name": "stderr",
          "output_type": "stream",
          "text": [
            "\n",
            "KeyboardInterrupt\n",
            "\n"
          ]
        }
      ],
      "source": [
        "industry_sectors=['Insurance',\n",
        "                  'Marketing',\n",
        "                  'Finance',\n",
        "                  'Sales',\n",
        "                  'Health',\n",
        "                  'Security',\n",
        "                  'Government',\n",
        "                  'Restaurant',\n",
        "                  'HR',\n",
        "                  'Technology']\n",
        "\n",
        "\n",
        "# Load pre-trained BERT model\n",
        "classifier = pipeline('text-classification', model='bert-base-uncased', label_list=industry_sectors)\n",
        "\n",
        "# Define example text to classify\n",
        "example_text = \"This is an example sentence about marketing and finance.\"\n",
        "\n",
        "# Use pre-trained model to predict category of example text\n",
        "predicted_category = classifier(example_text)\n",
        "\n",
        "# Print predicted category\n",
        "print(predicted_category)"
      ]
    },
    {
      "cell_type": "code",
      "execution_count": null,
      "metadata": {
        "id": "rJ78LY1oY30t"
      },
      "outputs": [],
      "source": [
        "# df_clean = df_clean.drop(columns=['specialties'])"
      ]
    },
    {
      "cell_type": "markdown",
      "metadata": {
        "id": "HLxiZPT_Y30t"
      },
      "source": [
        "#### industry:\n",
        "industry provides us with valuable information on the company's actuation sector. There are only 114 distinct values for industry, thus we will try to one-hot encode these categories without more complex feature engineering on the first attempt"
      ]
    },
    {
      "cell_type": "code",
      "execution_count": null,
      "metadata": {
        "id": "hB4UtURBY30u",
        "outputId": "7df2b3d2-5ea7-40f3-8d9a-09315959683a"
      },
      "outputs": [
        {
          "data": {
            "text/plain": [
              "Information Technology and Services    318\n",
              "Internet                               260\n",
              "Computer Software                      205\n",
              "Marketing and Advertising              190\n",
              "Financial Services                      62\n",
              "                                      ... \n",
              "Plastics                                 1\n",
              "Health, Wellness & Fitness               1\n",
              "Maritime                                 1\n",
              "Chemicals                                1\n",
              "Non-Profit Organization Management       1\n",
              "Name: industry, Length: 114, dtype: int64"
            ]
          },
          "execution_count": 177,
          "metadata": {},
          "output_type": "execute_result"
        }
      ],
      "source": [
        "df_clean.industry.value_counts()"
      ]
    },
    {
      "cell_type": "markdown",
      "metadata": {
        "id": "3w9Y2dvgY30u"
      },
      "source": [
        "#### categories:\n",
        "categories also provides us with valuable information on the company's actuation sector. There are 1537 distinct values for industry, so some category grouping needs to be done"
      ]
    },
    {
      "cell_type": "code",
      "execution_count": null,
      "metadata": {
        "id": "WUxuf63mY30v",
        "outputId": "4e951267-83ed-49f1-dc78-282f150d3681"
      },
      "outputs": [
        {
          "data": {
            "text/plain": [
              "Advertising, Marketing,                                             21\n",
              "E-Commerce, ,                                                       13\n",
              "Marketing,                                                          13\n",
              "E-Commerce,                                                         11\n",
              "Software,                                                           11\n",
              "                                                                    ..\n",
              "Publishing, Digital Media, Beauty, Fashion, Lifestyle,               1\n",
              "Leisure, Marketplace, Reservations,                                  1\n",
              "Automotive, Service Industry, Consumer Electronics, , Recycling,     1\n",
              "Consulting, , Legal                                                  1\n",
              "Consulting, Marketing, Sales, ,                                      1\n",
              "Name: categories, Length: 1537, dtype: int64"
            ]
          },
          "execution_count": 180,
          "metadata": {},
          "output_type": "execute_result"
        }
      ],
      "source": [
        "df_clean.categories.value_counts()"
      ]
    },
    {
      "cell_type": "code",
      "execution_count": null,
      "metadata": {
        "id": "LabYteG3Y30v",
        "outputId": "04585ed0-e5e5-4db9-ec18-180c86a1363b"
      },
      "outputs": [
        {
          "data": {
            "text/plain": [
              "Advertising, Marketing,                                                       21\n",
              "E-Commerce, ,                                                                 13\n",
              "Marketing,                                                                    13\n",
              "E-Commerce,                                                                   11\n",
              "Software,                                                                     11\n",
              "Consulting, Marketing, Sales,                                                  9\n",
              "Information Technology,                                                        7\n",
              "Small and Medium Businesses,                                                   7\n",
              "Digital Marketing,                                                             6\n",
              "Information Technology, Software,                                              6\n",
              "Consulting,                                                                    5\n",
              "Advertising,                                                                   5\n",
              "Marketing, ,                                                                   5\n",
              ",                                                                              5\n",
              "Human Resources, Staffing Agency,                                              5\n",
              "Internet, Software,                                                            4\n",
              "Human Resources,                                                               4\n",
              ", Market Research                                                              4\n",
              "Software, SaaS,                                                                4\n",
              "Information Technology, Consulting, Small and Medium Businesses,               4\n",
              "Internet, E-Commerce,                                                          4\n",
              "Information Technology, Consulting,                                            4\n",
              "Information Technology, Small and Medium Businesses,                           4\n",
              "Retail, E-Commerce,                                                            4\n",
              "Information Technology, Software, Human Resources,                             4\n",
              "Internet,                                                                      4\n",
              "Consulting, Advertising, Marketing,                                            3\n",
              "Software, ,                                                                    3\n",
              "Consulting, Advertising, Marketing, Small and Medium Businesses,               3\n",
              "Business Development,                                                          3\n",
              "Information Technology, Human Resources,                                       3\n",
              "Internet, Information Technology,                                              3\n",
              "Marketplace,                                                                   3\n",
              "Consulting, Human Resources, Education,                                        3\n",
              "Internet, E-Commerce, Small and Medium Businesses,                             3\n",
              "Software, Enterprise Software, SaaS,                                           3\n",
              "Consulting, Human Resources,                                                   3\n",
              "Marketing, , Lead Generation                                                   3\n",
              "Information Technology, ,                                                      3\n",
              ", Market Research,                                                             3\n",
              "E-Commerce, Small and Medium Businesses,                                       3\n",
              "Software, Human Resources,                                                     3\n",
              "Advertising, Marketing, ,                                                      3\n",
              "Advertising, Brand Marketing,                                                  2\n",
              "Automotive, E-Commerce,                                                        2\n",
              "Information Technology, Marketing,                                             2\n",
              "Software, , Sports                                                             2\n",
              "Biotechnology,                                                                 2\n",
              "Internet, Consulting, Advertising, Marketing, Small and Medium Businesses,     2\n",
              "Consulting, , Market Research                                                  2\n",
              "Name: categories, dtype: int64"
            ]
          },
          "execution_count": 183,
          "metadata": {},
          "output_type": "execute_result"
        }
      ],
      "source": [
        "df_clean.categories.value_counts()[:50]"
      ]
    },
    {
      "cell_type": "markdown",
      "metadata": {
        "id": "diJi8u-RY30v"
      },
      "source": [
        "### Scaling\n",
        "---"
      ]
    },
    {
      "cell_type": "code",
      "execution_count": null,
      "metadata": {
        "id": "ifp6uzUuY30w",
        "outputId": "d96b44b4-9440-4055-c770-44aa18e7e739"
      },
      "outputs": [
        {
          "data": {
            "text/html": [
              "<div>\n",
              "<style scoped>\n",
              "    .dataframe tbody tr th:only-of-type {\n",
              "        vertical-align: middle;\n",
              "    }\n",
              "\n",
              "    .dataframe tbody tr th {\n",
              "        vertical-align: top;\n",
              "    }\n",
              "\n",
              "    .dataframe thead th {\n",
              "        text-align: right;\n",
              "    }\n",
              "</style>\n",
              "<table border=\"1\" class=\"dataframe\">\n",
              "  <thead>\n",
              "    <tr style=\"text-align: right;\">\n",
              "      <th></th>\n",
              "      <th>employees_on_linkedin</th>\n",
              "      <th>followers</th>\n",
              "      <th>founded</th>\n",
              "      <th>industry</th>\n",
              "      <th>ownership_type</th>\n",
              "      <th>size</th>\n",
              "      <th>technologies</th>\n",
              "      <th>categories</th>\n",
              "      <th>type</th>\n",
              "      <th>has_funding</th>\n",
              "    </tr>\n",
              "  </thead>\n",
              "  <tbody>\n",
              "    <tr>\n",
              "      <th>0</th>\n",
              "      <td>22</td>\n",
              "      <td>1074</td>\n",
              "      <td>2017.0</td>\n",
              "      <td>Restaurants</td>\n",
              "      <td>Partnership</td>\n",
              "      <td>11-50</td>\n",
              "      <td>NaN</td>\n",
              "      <td>NaN</td>\n",
              "      <td>B2B</td>\n",
              "      <td>0</td>\n",
              "    </tr>\n",
              "    <tr>\n",
              "      <th>1</th>\n",
              "      <td>2</td>\n",
              "      <td>484</td>\n",
              "      <td>2009.0</td>\n",
              "      <td>Staffing and Recruiting</td>\n",
              "      <td>Privately Held</td>\n",
              "      <td>2-10</td>\n",
              "      <td>New Relic, YouTube, Eventbrite, Microsoft Offi...</td>\n",
              "      <td>Consulting, Human Resources, Insurance, Small ...</td>\n",
              "      <td>B2B</td>\n",
              "      <td>0</td>\n",
              "    </tr>\n",
              "    <tr>\n",
              "      <th>2</th>\n",
              "      <td>40</td>\n",
              "      <td>877</td>\n",
              "      <td>2017.0</td>\n",
              "      <td>Information Technology and Services</td>\n",
              "      <td>Privately Held</td>\n",
              "      <td>11-50</td>\n",
              "      <td>Amazon SES</td>\n",
              "      <td>Artificial Intelligence, Recruiting, Human Res...</td>\n",
              "      <td>B2B</td>\n",
              "      <td>1</td>\n",
              "    </tr>\n",
              "    <tr>\n",
              "      <th>3</th>\n",
              "      <td>112</td>\n",
              "      <td>11322</td>\n",
              "      <td>2012.0</td>\n",
              "      <td>Printing</td>\n",
              "      <td>Public Company</td>\n",
              "      <td>501-1000</td>\n",
              "      <td>HubSpot, New Relic, React, Salesforce, Sendgri...</td>\n",
              "      <td>Software Engineering, Retail Technology, Indus...</td>\n",
              "      <td>B2B B2C</td>\n",
              "      <td>0</td>\n",
              "    </tr>\n",
              "    <tr>\n",
              "      <th>4</th>\n",
              "      <td>0</td>\n",
              "      <td>21</td>\n",
              "      <td>2012.0</td>\n",
              "      <td>Information Services</td>\n",
              "      <td>Public Company</td>\n",
              "      <td>2-10</td>\n",
              "      <td>Microsoft ASP.NET</td>\n",
              "      <td>Information Services, Social Network,</td>\n",
              "      <td>B2C</td>\n",
              "      <td>0</td>\n",
              "    </tr>\n",
              "  </tbody>\n",
              "</table>\n",
              "</div>"
            ],
            "text/plain": [
              "   employees_on_linkedin  followers  founded  \\\n",
              "0                     22       1074   2017.0   \n",
              "1                      2        484   2009.0   \n",
              "2                     40        877   2017.0   \n",
              "3                    112      11322   2012.0   \n",
              "4                      0         21   2012.0   \n",
              "\n",
              "                              industry  ownership_type      size  \\\n",
              "0                          Restaurants     Partnership     11-50   \n",
              "1              Staffing and Recruiting  Privately Held      2-10   \n",
              "2  Information Technology and Services  Privately Held     11-50   \n",
              "3                             Printing  Public Company  501-1000   \n",
              "4                 Information Services  Public Company      2-10   \n",
              "\n",
              "                                        technologies  \\\n",
              "0                                                NaN   \n",
              "1  New Relic, YouTube, Eventbrite, Microsoft Offi...   \n",
              "2                                         Amazon SES   \n",
              "3  HubSpot, New Relic, React, Salesforce, Sendgri...   \n",
              "4                                  Microsoft ASP.NET   \n",
              "\n",
              "                                          categories     type  has_funding  \n",
              "0                                                NaN      B2B            0  \n",
              "1  Consulting, Human Resources, Insurance, Small ...      B2B            0  \n",
              "2  Artificial Intelligence, Recruiting, Human Res...      B2B            1  \n",
              "3  Software Engineering, Retail Technology, Indus...  B2B B2C            0  \n",
              "4              Information Services, Social Network,      B2C            0  "
            ]
          },
          "execution_count": 162,
          "metadata": {},
          "output_type": "execute_result"
        }
      ],
      "source": [
        "df_clean.head()"
      ]
    },
    {
      "cell_type": "code",
      "execution_count": null,
      "metadata": {
        "id": "XaN6QV69Y30w",
        "outputId": "7698928d-8b6c-42cf-bb34-dc100ca1539b"
      },
      "outputs": [
        {
          "name": "stdout",
          "output_type": "stream",
          "text": [
            "                                             name  alexa_rank           city  \\\n",
            "0                                           Supli         NaN          Paris   \n",
            "1                           Bandwidth Recruitment         NaN           Hove   \n",
            "2                                          VCV.AI         NaN     Menlo Park   \n",
            "3     Scalable Press Employees, Location, Careers         NaN         Newark   \n",
            "4                                       Stuffwrap         NaN            NaN   \n",
            "...                                           ...         ...            ...   \n",
            "1794                                  BB Holdings         NaN            NaN   \n",
            "1795                               Adan Corporate         NaN            NaN   \n",
            "1796                Stafford Consulting Engineers         NaN      Charlotte   \n",
            "1797                                   LeadSecure         NaN  San Francisco   \n",
            "1798                      Matrix Insurance Agency         NaN        Fremont   \n",
            "\n",
            "               state         country                         hq  \\\n",
            "0     √éle-de-France          France      Paris, √éle-de-France   \n",
            "1            England  United Kingdom          Hove, East Sussex   \n",
            "2         California   United States     Menlo Park, California   \n",
            "3         California   United States         Newark, California   \n",
            "4                NaN         Unknown                    Unknown   \n",
            "...              ...             ...                        ...   \n",
            "1794             NaN         Unknown                        NaN   \n",
            "1795             NaN         Unknown                        NaN   \n",
            "1796  North Carolina   United States  Charlotte, North Carolina   \n",
            "1797      California   United States              San Francisco   \n",
            "1798      California   United States        Fremont, California   \n",
            "\n",
            "                                  website  employees_on_linkedin  followers  \\\n",
            "0                      https://supli.com/              -0.070762  -0.073254   \n",
            "1     http://www.bandwidthrecruitment.com              -0.136405  -0.173569   \n",
            "2                          http://vcv.ai/              -0.011684  -0.106749   \n",
            "3               https://scalablepress.com               0.224631   1.669165   \n",
            "4                http://www.stuffwrap.com              -0.142970  -0.252290   \n",
            "...                                   ...                    ...        ...   \n",
            "1794             http://bbholdingsinc.com              -0.136405  -0.254841   \n",
            "1795         http://www.adancorporate.com              -0.070762  -0.234948   \n",
            "1796          http://www.stafford-usa.com              -0.133123  -0.240729   \n",
            "1797            http://www.leadsecure.com              -0.142970  -0.253311   \n",
            "1798              http://www.matrixia.com              -0.100302  -0.230697   \n",
            "\n",
            "      founded                             industry  \\\n",
            "0      2017.0                          Restaurants   \n",
            "1      2009.0              Staffing and Recruiting   \n",
            "2      2017.0  Information Technology and Services   \n",
            "3      2012.0                             Printing   \n",
            "4      2012.0                 Information Services   \n",
            "...       ...                                  ...   \n",
            "1794      NaN                     Executive Office   \n",
            "1795   2013.0                Management Consulting   \n",
            "1796   1964.0                  Facilities Services   \n",
            "1797   2014.0                          Real Estate   \n",
            "1798   2006.0                            Insurance   \n",
            "\n",
            "                                           linkedin_url  \\\n",
            "0                https://www.linkedin.com/company/supli   \n",
            "1     https://www.linkedin.com/company/bandwidth-rec...   \n",
            "2               https://www.linkedin.com/company/vcv-ai   \n",
            "3        https://www.linkedin.com/company/scalablepress   \n",
            "4            https://www.linkedin.com/company/stuffwrap   \n",
            "...                                                 ...   \n",
            "1794  https://www.linkedin.com/company/bb-holdings-inc-   \n",
            "1795  https://www.linkedin.com/company/adan-corporat...   \n",
            "1796  https://www.linkedin.com/company/stafford-cons...   \n",
            "1797        https://www.linkedin.com/company/leadsecure   \n",
            "1798          https://www.linkedin.com/company/matrixia   \n",
            "\n",
            "                                               overview  ownership_type  \\\n",
            "0     Lib√©rez votre activit√© avec la plateforme de...     Partnership   \n",
            "1     Bandwidth Recruitment is an independent specia...  Privately Held   \n",
            "2     VCV automates 4 steps of recruitment in one fr...  Privately Held   \n",
            "3     At Scalable Press we're building the next gene...  Public Company   \n",
            "4     Stuffwrap is a platform where you turn your wi...  Public Company   \n",
            "...                                                 ...             ...   \n",
            "1794  Innovation | Solutions | Consulting\\n\\nBusines...  Privately Held   \n",
            "1795  Adan Corporate provides a wide range of bespok...  Privately Held   \n",
            "1796  Stafford Consulting Engineers is headquartered...  Privately Held   \n",
            "1797  LeadSecure is the next evolution in lead gener...  Privately Held   \n",
            "1798  Matrix Insurance Agency,  located in Fremont, ...  Privately Held   \n",
            "\n",
            "     sic_codes                size  \\\n",
            "0          NaN     11-50 employees   \n",
            "1          NaN      2-10 employees   \n",
            "2          NaN     11-50 employees   \n",
            "3          NaN  501-1000 employees   \n",
            "4          NaN      2-10 employees   \n",
            "...        ...                 ...   \n",
            "1794       NaN       0-1 employees   \n",
            "1795       NaN                 NaN   \n",
            "1796      8711     11-50 employees   \n",
            "1797       NaN      2-10 employees   \n",
            "1798       NaN     11-50 employees   \n",
            "\n",
            "                                            specialties  total_funding  \\\n",
            "0     saas, ERP, plateforme, restauration, grossiste...      -0.036581   \n",
            "1                        Cards and payments recruitment      -0.036581   \n",
            "2     assessment, recruitment, selection, hiring, HR...      -0.036401   \n",
            "3     Promotional Products Supplier, Industrial Auto...      -0.036581   \n",
            "4     Sale and swap your stuff, Buying and selling, ...      -0.036581   \n",
            "...                                                 ...            ...   \n",
            "1794  Wellness Management, Entertainment & Film, and...      -0.036581   \n",
            "1795  Mergers & Acquisitions, Financial modelling, S...      -0.036581   \n",
            "1796  Forensic Investigations, Roof Asset Management...      -0.036581   \n",
            "1797            real estate technology, lead generation      -0.036431   \n",
            "1798  Commercial Insurance, Global Insurance, Health...      -0.036581   \n",
            "\n",
            "                                           technologies  \\\n",
            "0                                                   NaN   \n",
            "1     New Relic, YouTube, Eventbrite, Microsoft Offi...   \n",
            "2                                            Amazon SES   \n",
            "3     HubSpot, New Relic, React, Salesforce, Sendgri...   \n",
            "4                                     Microsoft ASP.NET   \n",
            "...                                                 ...   \n",
            "1794                                   Campaign Monitor   \n",
            "1795                                                NaN   \n",
            "1796                                                NaN   \n",
            "1797                           YouTube, Amazon Route 53   \n",
            "1798                                     Google AdWords   \n",
            "\n",
            "                                           company_hubs  \\\n",
            "0                                                   NaN   \n",
            "1                                                   NaN   \n",
            "2     Companies with a .AI domain, Growjo 10000, 500...   \n",
            "3                                                   NaN   \n",
            "4                                                   NaN   \n",
            "...                                                 ...   \n",
            "1794                                                NaN   \n",
            "1795                                                NaN   \n",
            "1796                                                NaN   \n",
            "1797                                                NaN   \n",
            "1798                                                NaN   \n",
            "\n",
            "                              events  \\\n",
            "0                                NaN   \n",
            "1                            PAY 360   \n",
            "2                                NaN   \n",
            "3     Integrated Systems Europe 2020   \n",
            "4                                NaN   \n",
            "...                              ...   \n",
            "1794                             NaN   \n",
            "1795                             NaN   \n",
            "1796                             NaN   \n",
            "1797                             NaN   \n",
            "1798                             NaN   \n",
            "\n",
            "                                             categories     type  \n",
            "0                                                   NaN      B2B  \n",
            "1     Consulting, Human Resources, Insurance, Small ...      B2B  \n",
            "2     Artificial Intelligence, Recruiting, Human Res...      B2B  \n",
            "3     Software Engineering, Retail Technology, Indus...  B2B B2C  \n",
            "4                 Information Services, Social Network,      B2C  \n",
            "...                                                 ...      ...  \n",
            "1794                                Financial Services,      B2B  \n",
            "1795           Information Technology, Consulting, CRM,      B2B  \n",
            "1796  Construction, Facilities Support Services, , A...      B2B  \n",
            "1797    Internet, Mobile, Video Streaming, Real Estate,      B2B  \n",
            "1798                            Insurance, Health Care,      B2C  \n",
            "\n",
            "[1799 rows x 23 columns]\n"
          ]
        }
      ],
      "source": [
        "from sklearn.preprocessing import StandardScaler\n",
        "\n",
        "cols_to_scale = ['employees_on_linkedin', 'followers', 'founded']\n",
        "\n",
        "# Instantiate StandardScaler\n",
        "scaler = StandardScaler()\n",
        "\n",
        "# Fit the scaler to the selected columns\n",
        "scaler.fit(df[cols_to_scale])\n",
        "\n",
        "# Transform the selected columns with the fitted scaler\n",
        "df[cols_to_scale] = scaler.transform(df[cols_to_scale])\n",
        "\n",
        "# View the transformed DataFrame\n",
        "print(df)"
      ]
    },
    {
      "cell_type": "code",
      "execution_count": null,
      "metadata": {
        "id": "w8bEvq5JY30x"
      },
      "outputs": [],
      "source": []
    }
  ],
  "metadata": {
    "kernelspec": {
      "display_name": "conda-kernel",
      "language": "python",
      "name": "conda-kernel"
    },
    "language_info": {
      "codemirror_mode": {
        "name": "ipython",
        "version": 3
      },
      "file_extension": ".py",
      "mimetype": "text/x-python",
      "name": "python",
      "nbconvert_exporter": "python",
      "pygments_lexer": "ipython3",
      "version": "3.8.5"
    },
    "colab": {
      "provenance": [],
      "include_colab_link": true
    }
  },
  "nbformat": 4,
  "nbformat_minor": 0
}